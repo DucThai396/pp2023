{
 "cells": [
  {
   "cell_type": "code",
   "execution_count": 1,
   "id": "abd50328",
   "metadata": {
    "execution": {
     "iopub.execute_input": "2024-05-13T16:56:30.016630Z",
     "iopub.status.busy": "2024-05-13T16:56:30.016246Z",
     "iopub.status.idle": "2024-05-13T16:56:32.588861Z",
     "shell.execute_reply": "2024-05-13T16:56:32.587778Z"
    },
    "papermill": {
     "duration": 2.587903,
     "end_time": "2024-05-13T16:56:32.591474",
     "exception": false,
     "start_time": "2024-05-13T16:56:30.003571",
     "status": "completed"
    },
    "tags": []
   },
   "outputs": [],
   "source": [
    "import pandas as pd\n",
    "import gc\n",
    "import numpy as np\n",
    "import matplotlib.pyplot as plt\n",
    "import seaborn as sns\n",
    "\n",
    "from sklearn.feature_selection import RFE\n",
    "from sklearn.preprocessing import StandardScaler\n",
    "from sklearn.ensemble import RandomForestClassifier\n",
    "from sklearn.decomposition import PCA\n",
    "from sklearn.pipeline import Pipeline\n",
    "\n",
    "import warnings\n",
    "# turn off performance warning\n",
    "warnings.simplefilter(action='ignore', category=pd.errors.PerformanceWarning)"
   ]
  },
  {
   "cell_type": "markdown",
   "id": "f067a232",
   "metadata": {
    "papermill": {
     "duration": 0.010597,
     "end_time": "2024-05-13T16:56:32.613454",
     "exception": false,
     "start_time": "2024-05-13T16:56:32.602857",
     "status": "completed"
    },
    "tags": []
   },
   "source": [
    "**Prepare Data**"
   ]
  },
  {
   "cell_type": "code",
   "execution_count": 2,
   "id": "3b1d5b79",
   "metadata": {
    "execution": {
     "iopub.execute_input": "2024-05-13T16:56:32.636787Z",
     "iopub.status.busy": "2024-05-13T16:56:32.636252Z",
     "iopub.status.idle": "2024-05-13T16:56:32.642121Z",
     "shell.execute_reply": "2024-05-13T16:56:32.641042Z"
    },
    "papermill": {
     "duration": 0.020122,
     "end_time": "2024-05-13T16:56:32.644323",
     "exception": false,
     "start_time": "2024-05-13T16:56:32.624201",
     "status": "completed"
    },
    "tags": []
   },
   "outputs": [],
   "source": [
    "def load_data(data_path: str, usecols: [] = None):\n",
    "    if usecols is not None: \n",
    "        df = pd.read_parquet(data_path, columns=usecols)\n",
    "    else: \n",
    "        df = pd.read_parquet(data_path)\n",
    "    \n",
    "    return df"
   ]
  },
  {
   "cell_type": "code",
   "execution_count": 3,
   "id": "cf2dd337",
   "metadata": {
    "execution": {
     "iopub.execute_input": "2024-05-13T16:56:32.669391Z",
     "iopub.status.busy": "2024-05-13T16:56:32.669043Z",
     "iopub.status.idle": "2024-05-13T16:56:49.801701Z",
     "shell.execute_reply": "2024-05-13T16:56:49.800529Z"
    },
    "papermill": {
     "duration": 17.14796,
     "end_time": "2024-05-13T16:56:49.804403",
     "exception": false,
     "start_time": "2024-05-13T16:56:32.656443",
     "status": "completed"
    },
    "tags": []
   },
   "outputs": [],
   "source": [
    "train_data = load_data(data_path=\"/kaggle/input/amex-data-integer-dtypes-parquet-format/train.parquet\")"
   ]
  },
  {
   "cell_type": "code",
   "execution_count": 4,
   "id": "d451d57d",
   "metadata": {
    "execution": {
     "iopub.execute_input": "2024-05-13T16:56:49.829671Z",
     "iopub.status.busy": "2024-05-13T16:56:49.828548Z",
     "iopub.status.idle": "2024-05-13T16:56:53.991211Z",
     "shell.execute_reply": "2024-05-13T16:56:53.990278Z"
    },
    "papermill": {
     "duration": 4.178143,
     "end_time": "2024-05-13T16:56:53.993900",
     "exception": false,
     "start_time": "2024-05-13T16:56:49.815757",
     "status": "completed"
    },
    "tags": []
   },
   "outputs": [],
   "source": [
    "train_labels = pd.read_csv('/kaggle/input/amex-default-prediction/train_labels.csv')\n",
    "train_data = pd.merge(train_data, train_labels, on = 'customer_ID', how = 'left')"
   ]
  },
  {
   "cell_type": "markdown",
   "id": "d95294d1",
   "metadata": {
    "papermill": {
     "duration": 0.01063,
     "end_time": "2024-05-13T16:56:54.015537",
     "exception": false,
     "start_time": "2024-05-13T16:56:54.004907",
     "status": "completed"
    },
    "tags": []
   },
   "source": [
    "**Preprocessing 1**"
   ]
  },
  {
   "cell_type": "markdown",
   "id": "bf77b123",
   "metadata": {
    "papermill": {
     "duration": 0.010539,
     "end_time": "2024-05-13T16:56:54.036994",
     "exception": false,
     "start_time": "2024-05-13T16:56:54.026455",
     "status": "completed"
    },
    "tags": []
   },
   "source": [
    "**1/ Handle MISSING VALUES**"
   ]
  },
  {
   "cell_type": "code",
   "execution_count": 5,
   "id": "06a7bfd2",
   "metadata": {
    "execution": {
     "iopub.execute_input": "2024-05-13T16:56:54.060493Z",
     "iopub.status.busy": "2024-05-13T16:56:54.059790Z",
     "iopub.status.idle": "2024-05-13T16:56:55.845609Z",
     "shell.execute_reply": "2024-05-13T16:56:55.844313Z"
    },
    "papermill": {
     "duration": 1.800144,
     "end_time": "2024-05-13T16:56:55.847934",
     "exception": false,
     "start_time": "2024-05-13T16:56:54.047790",
     "status": "completed"
    },
    "tags": []
   },
   "outputs": [
    {
     "name": "stdout",
     "output_type": "stream",
     "text": [
      "['D_88' 'D_110' 'B_39' 'D_73' 'B_42' 'D_134' 'B_29' 'D_132' 'D_76' 'D_42'\n",
      " 'D_142' 'D_53']\n"
     ]
    }
   ],
   "source": [
    "missing_values = train_data.isnull().sum()\n",
    "missing_df = missing_values.to_frame().reset_index().rename(columns={\"index\": \"Feature\", 0: \"Number of missing values\"}).sort_values([\"Number of missing values\"], ascending=False).reset_index(drop=True)\n",
    "missing_df['% missing'] = np.round((missing_df[\"Number of missing values\"] /len(train_data) )*100, 2)\n",
    "missing_70 = missing_df.loc[missing_df['% missing'] > 70, 'Feature'].values\n",
    "del missing_values\n",
    "del missing_df\n",
    "print(missing_70)"
   ]
  },
  {
   "cell_type": "code",
   "execution_count": 6,
   "id": "f9d75b28",
   "metadata": {
    "execution": {
     "iopub.execute_input": "2024-05-13T16:56:55.871634Z",
     "iopub.status.busy": "2024-05-13T16:56:55.871260Z",
     "iopub.status.idle": "2024-05-13T16:56:57.198499Z",
     "shell.execute_reply": "2024-05-13T16:56:57.197205Z"
    },
    "papermill": {
     "duration": 1.343679,
     "end_time": "2024-05-13T16:56:57.202678",
     "exception": false,
     "start_time": "2024-05-13T16:56:55.858999",
     "status": "completed"
    },
    "tags": []
   },
   "outputs": [],
   "source": [
    "# list of features\n",
    "features = train_data.drop(['customer_ID', 'S_2'], axis = 1).columns.to_list()\n",
    "# categorical features:\n",
    "cat_cols = ['B_30', 'B_38', 'D_114', 'D_116', 'D_117', 'D_120', 'D_126', 'D_63', 'D_64', 'D_66', 'D_68']\n",
    "cat_cols = [col for col in cat_cols if col not in missing_70] # make sure dropped columns are not listed in the list\n",
    "    \n",
    "# numerical features:\n",
    "num_features = [col for col in features if col not in cat_cols and col not in missing_70 and col != \"target\"]"
   ]
  },
  {
   "cell_type": "code",
   "execution_count": 7,
   "id": "f0b944de",
   "metadata": {
    "execution": {
     "iopub.execute_input": "2024-05-13T16:56:57.238766Z",
     "iopub.status.busy": "2024-05-13T16:56:57.236946Z",
     "iopub.status.idle": "2024-05-13T16:56:57.247862Z",
     "shell.execute_reply": "2024-05-13T16:56:57.246891Z"
    },
    "papermill": {
     "duration": 0.03534,
     "end_time": "2024-05-13T16:56:57.249985",
     "exception": false,
     "start_time": "2024-05-13T16:56:57.214645",
     "status": "completed"
    },
    "tags": []
   },
   "outputs": [],
   "source": [
    "def preprocessing(df: pd.DataFrame):\n",
    "    # drop columns with >70% values missed\n",
    "    processed_data = df.drop(missing_70, axis = 1)\n",
    "   \n",
    "    # handle missing values: \n",
    "    # impute missing values for numerical features\n",
    "    processed_data[num_features] = df[num_features].fillna(df[num_features].mean())\n",
    "    # impute missing values for categorical features\n",
    "    for col in cat_cols:\n",
    "        processed_data[col] = df[col].fillna(df[col].mode()[0])\n",
    "    # drop rows with missing values if any\n",
    "    processed_data.dropna(inplace = True)\n",
    "    print('preprocessing done')\n",
    "    \n",
    "    return processed_data\n",
    "        "
   ]
  },
  {
   "cell_type": "code",
   "execution_count": 8,
   "id": "4036f957",
   "metadata": {
    "execution": {
     "iopub.execute_input": "2024-05-13T16:56:57.295820Z",
     "iopub.status.busy": "2024-05-13T16:56:57.294526Z",
     "iopub.status.idle": "2024-05-13T16:57:17.945106Z",
     "shell.execute_reply": "2024-05-13T16:57:17.943122Z"
    },
    "papermill": {
     "duration": 20.674819,
     "end_time": "2024-05-13T16:57:17.951862",
     "exception": false,
     "start_time": "2024-05-13T16:56:57.277043",
     "status": "completed"
    },
    "tags": []
   },
   "outputs": [
    {
     "name": "stdout",
     "output_type": "stream",
     "text": [
      "preprocessing done\n"
     ]
    }
   ],
   "source": [
    "pro_train = preprocessing(train_data)\n",
    "del train_data"
   ]
  },
  {
   "cell_type": "markdown",
   "id": "c2a91110",
   "metadata": {
    "papermill": {
     "duration": 0.010967,
     "end_time": "2024-05-13T16:57:17.976416",
     "exception": false,
     "start_time": "2024-05-13T16:57:17.965449",
     "status": "completed"
    },
    "tags": []
   },
   "source": [
    "**2/ One-Hot Encoding for categorical features**"
   ]
  },
  {
   "cell_type": "code",
   "execution_count": 9,
   "id": "89b8270e",
   "metadata": {
    "execution": {
     "iopub.execute_input": "2024-05-13T16:57:18.000966Z",
     "iopub.status.busy": "2024-05-13T16:57:18.000496Z",
     "iopub.status.idle": "2024-05-13T16:57:18.321644Z",
     "shell.execute_reply": "2024-05-13T16:57:18.320504Z"
    },
    "papermill": {
     "duration": 0.336591,
     "end_time": "2024-05-13T16:57:18.324038",
     "exception": false,
     "start_time": "2024-05-13T16:57:17.987447",
     "status": "completed"
    },
    "tags": []
   },
   "outputs": [
    {
     "data": {
      "text/plain": [
       "{'B_30': {0: 0, 1: 1, 2: 2, -1: 3},\n",
       " 'B_38': {1: 0, 2: 1, 3: 2, 4: 3, 5: 4, 6: 5, 7: 6, -1: 7},\n",
       " 'D_114': {0: 0, 1: 1, -1: 2},\n",
       " 'D_116': {0: 0, 1: 1, -1: 2},\n",
       " 'D_117': {0: 0, 2: 1, 3: 2, 4: 3, 5: 4, 6: 5, 7: 6, -1: 7},\n",
       " 'D_120': {0: 0, 1: 1, -1: 2},\n",
       " 'D_126': {0: 0, 1: 1, 2: 2, -1: 3},\n",
       " 'D_63': {0: 0, 1: 1, 2: 2, 3: 3, 4: 4, 5: 5},\n",
       " 'D_64': {0: 0, 1: 1, 2: 2, 3: 3, -1: 4},\n",
       " 'D_66': {0: 0, 1: 1, -1: 2},\n",
       " 'D_68': {0: 0, 1: 1, 2: 2, 3: 3, 4: 4, 5: 5, 6: 6, -1: 7}}"
      ]
     },
     "execution_count": 9,
     "metadata": {},
     "output_type": "execute_result"
    }
   ],
   "source": [
    "unique_categories = {}\n",
    "for col in cat_cols:\n",
    "    unique_categories[col] = set(pro_train[col].unique()) \n",
    "\n",
    "# Combine unique categories and create a mapping to integers\n",
    "category_to_int = {col: {category: i for i, category in enumerate(categories)} for col, categories in unique_categories.items()}\n",
    "category_to_int"
   ]
  },
  {
   "cell_type": "code",
   "execution_count": 10,
   "id": "02a21f48",
   "metadata": {
    "execution": {
     "iopub.execute_input": "2024-05-13T16:57:18.348775Z",
     "iopub.status.busy": "2024-05-13T16:57:18.348333Z",
     "iopub.status.idle": "2024-05-13T16:57:18.354616Z",
     "shell.execute_reply": "2024-05-13T16:57:18.353399Z"
    },
    "papermill": {
     "duration": 0.021357,
     "end_time": "2024-05-13T16:57:18.356908",
     "exception": false,
     "start_time": "2024-05-13T16:57:18.335551",
     "status": "completed"
    },
    "tags": []
   },
   "outputs": [],
   "source": [
    "def one_hot_encoding(df, categorical_features, category_to_int):\n",
    "    df[categorical_features] = df[categorical_features].apply(lambda col: col.map(category_to_int[col.name]))\n",
    "    df = pd.get_dummies(df, columns=categorical_features)\n",
    "    \n",
    "    return df"
   ]
  },
  {
   "cell_type": "code",
   "execution_count": 11,
   "id": "c5354ad6",
   "metadata": {
    "execution": {
     "iopub.execute_input": "2024-05-13T16:57:18.384056Z",
     "iopub.status.busy": "2024-05-13T16:57:18.383246Z",
     "iopub.status.idle": "2024-05-13T16:57:23.933592Z",
     "shell.execute_reply": "2024-05-13T16:57:23.932509Z"
    },
    "papermill": {
     "duration": 5.566123,
     "end_time": "2024-05-13T16:57:23.936238",
     "exception": false,
     "start_time": "2024-05-13T16:57:18.370115",
     "status": "completed"
    },
    "tags": []
   },
   "outputs": [],
   "source": [
    "pro_train = one_hot_encoding(pro_train, cat_cols, category_to_int)\n",
    "new_cat_cols = [x for x in pro_train.columns if x not in num_features and x != \"S_2\" and x != \"customer_ID\" and x != \"target\"]"
   ]
  },
  {
   "cell_type": "code",
   "execution_count": 12,
   "id": "56d21f77",
   "metadata": {
    "execution": {
     "iopub.execute_input": "2024-05-13T16:57:23.960908Z",
     "iopub.status.busy": "2024-05-13T16:57:23.960492Z",
     "iopub.status.idle": "2024-05-13T16:57:24.167427Z",
     "shell.execute_reply": "2024-05-13T16:57:24.166186Z"
    },
    "papermill": {
     "duration": 0.221828,
     "end_time": "2024-05-13T16:57:24.169740",
     "exception": false,
     "start_time": "2024-05-13T16:57:23.947912",
     "status": "completed"
    },
    "tags": []
   },
   "outputs": [
    {
     "data": {
      "text/html": [
       "<div>\n",
       "<style scoped>\n",
       "    .dataframe tbody tr th:only-of-type {\n",
       "        vertical-align: middle;\n",
       "    }\n",
       "\n",
       "    .dataframe tbody tr th {\n",
       "        vertical-align: top;\n",
       "    }\n",
       "\n",
       "    .dataframe thead th {\n",
       "        text-align: right;\n",
       "    }\n",
       "</style>\n",
       "<table border=\"1\" class=\"dataframe\">\n",
       "  <thead>\n",
       "    <tr style=\"text-align: right;\">\n",
       "      <th></th>\n",
       "      <th>B_30_0</th>\n",
       "      <th>B_30_1</th>\n",
       "      <th>B_30_2</th>\n",
       "      <th>B_30_3</th>\n",
       "      <th>B_38_0</th>\n",
       "      <th>B_38_1</th>\n",
       "      <th>B_38_2</th>\n",
       "      <th>B_38_3</th>\n",
       "      <th>B_38_4</th>\n",
       "      <th>B_38_5</th>\n",
       "      <th>...</th>\n",
       "      <th>D_66_1</th>\n",
       "      <th>D_66_2</th>\n",
       "      <th>D_68_0</th>\n",
       "      <th>D_68_1</th>\n",
       "      <th>D_68_2</th>\n",
       "      <th>D_68_3</th>\n",
       "      <th>D_68_4</th>\n",
       "      <th>D_68_5</th>\n",
       "      <th>D_68_6</th>\n",
       "      <th>D_68_7</th>\n",
       "    </tr>\n",
       "  </thead>\n",
       "  <tbody>\n",
       "    <tr>\n",
       "      <th>0</th>\n",
       "      <td>True</td>\n",
       "      <td>False</td>\n",
       "      <td>False</td>\n",
       "      <td>False</td>\n",
       "      <td>False</td>\n",
       "      <td>True</td>\n",
       "      <td>False</td>\n",
       "      <td>False</td>\n",
       "      <td>False</td>\n",
       "      <td>False</td>\n",
       "      <td>...</td>\n",
       "      <td>False</td>\n",
       "      <td>True</td>\n",
       "      <td>False</td>\n",
       "      <td>False</td>\n",
       "      <td>False</td>\n",
       "      <td>False</td>\n",
       "      <td>False</td>\n",
       "      <td>False</td>\n",
       "      <td>True</td>\n",
       "      <td>False</td>\n",
       "    </tr>\n",
       "    <tr>\n",
       "      <th>1</th>\n",
       "      <td>True</td>\n",
       "      <td>False</td>\n",
       "      <td>False</td>\n",
       "      <td>False</td>\n",
       "      <td>False</td>\n",
       "      <td>True</td>\n",
       "      <td>False</td>\n",
       "      <td>False</td>\n",
       "      <td>False</td>\n",
       "      <td>False</td>\n",
       "      <td>...</td>\n",
       "      <td>False</td>\n",
       "      <td>True</td>\n",
       "      <td>False</td>\n",
       "      <td>False</td>\n",
       "      <td>False</td>\n",
       "      <td>False</td>\n",
       "      <td>False</td>\n",
       "      <td>False</td>\n",
       "      <td>True</td>\n",
       "      <td>False</td>\n",
       "    </tr>\n",
       "    <tr>\n",
       "      <th>2</th>\n",
       "      <td>True</td>\n",
       "      <td>False</td>\n",
       "      <td>False</td>\n",
       "      <td>False</td>\n",
       "      <td>False</td>\n",
       "      <td>True</td>\n",
       "      <td>False</td>\n",
       "      <td>False</td>\n",
       "      <td>False</td>\n",
       "      <td>False</td>\n",
       "      <td>...</td>\n",
       "      <td>False</td>\n",
       "      <td>True</td>\n",
       "      <td>False</td>\n",
       "      <td>False</td>\n",
       "      <td>False</td>\n",
       "      <td>False</td>\n",
       "      <td>False</td>\n",
       "      <td>False</td>\n",
       "      <td>True</td>\n",
       "      <td>False</td>\n",
       "    </tr>\n",
       "    <tr>\n",
       "      <th>3</th>\n",
       "      <td>True</td>\n",
       "      <td>False</td>\n",
       "      <td>False</td>\n",
       "      <td>False</td>\n",
       "      <td>False</td>\n",
       "      <td>True</td>\n",
       "      <td>False</td>\n",
       "      <td>False</td>\n",
       "      <td>False</td>\n",
       "      <td>False</td>\n",
       "      <td>...</td>\n",
       "      <td>False</td>\n",
       "      <td>True</td>\n",
       "      <td>False</td>\n",
       "      <td>False</td>\n",
       "      <td>False</td>\n",
       "      <td>False</td>\n",
       "      <td>False</td>\n",
       "      <td>False</td>\n",
       "      <td>True</td>\n",
       "      <td>False</td>\n",
       "    </tr>\n",
       "    <tr>\n",
       "      <th>4</th>\n",
       "      <td>True</td>\n",
       "      <td>False</td>\n",
       "      <td>False</td>\n",
       "      <td>False</td>\n",
       "      <td>False</td>\n",
       "      <td>True</td>\n",
       "      <td>False</td>\n",
       "      <td>False</td>\n",
       "      <td>False</td>\n",
       "      <td>False</td>\n",
       "      <td>...</td>\n",
       "      <td>False</td>\n",
       "      <td>True</td>\n",
       "      <td>False</td>\n",
       "      <td>False</td>\n",
       "      <td>False</td>\n",
       "      <td>False</td>\n",
       "      <td>False</td>\n",
       "      <td>False</td>\n",
       "      <td>True</td>\n",
       "      <td>False</td>\n",
       "    </tr>\n",
       "  </tbody>\n",
       "</table>\n",
       "<p>5 rows × 55 columns</p>\n",
       "</div>"
      ],
      "text/plain": [
       "   B_30_0  B_30_1  B_30_2  B_30_3  B_38_0  B_38_1  B_38_2  B_38_3  B_38_4  \\\n",
       "0    True   False   False   False   False    True   False   False   False   \n",
       "1    True   False   False   False   False    True   False   False   False   \n",
       "2    True   False   False   False   False    True   False   False   False   \n",
       "3    True   False   False   False   False    True   False   False   False   \n",
       "4    True   False   False   False   False    True   False   False   False   \n",
       "\n",
       "   B_38_5  ...  D_66_1  D_66_2  D_68_0  D_68_1  D_68_2  D_68_3  D_68_4  \\\n",
       "0   False  ...   False    True   False   False   False   False   False   \n",
       "1   False  ...   False    True   False   False   False   False   False   \n",
       "2   False  ...   False    True   False   False   False   False   False   \n",
       "3   False  ...   False    True   False   False   False   False   False   \n",
       "4   False  ...   False    True   False   False   False   False   False   \n",
       "\n",
       "   D_68_5  D_68_6  D_68_7  \n",
       "0   False    True   False  \n",
       "1   False    True   False  \n",
       "2   False    True   False  \n",
       "3   False    True   False  \n",
       "4   False    True   False  \n",
       "\n",
       "[5 rows x 55 columns]"
      ]
     },
     "execution_count": 12,
     "metadata": {},
     "output_type": "execute_result"
    }
   ],
   "source": [
    "pro_train[new_cat_cols].head()"
   ]
  },
  {
   "cell_type": "markdown",
   "id": "d831c095",
   "metadata": {
    "papermill": {
     "duration": 0.01163,
     "end_time": "2024-05-13T16:57:24.193093",
     "exception": false,
     "start_time": "2024-05-13T16:57:24.181463",
     "status": "completed"
    },
    "tags": []
   },
   "source": [
    "**DATA AGGREGATION (transaction level to customer level)**"
   ]
  },
  {
   "cell_type": "code",
   "execution_count": 13,
   "id": "c5a46559",
   "metadata": {
    "execution": {
     "iopub.execute_input": "2024-05-13T16:57:24.217836Z",
     "iopub.status.busy": "2024-05-13T16:57:24.217406Z",
     "iopub.status.idle": "2024-05-13T16:57:24.228174Z",
     "shell.execute_reply": "2024-05-13T16:57:24.227285Z"
    },
    "papermill": {
     "duration": 0.025988,
     "end_time": "2024-05-13T16:57:24.230535",
     "exception": false,
     "start_time": "2024-05-13T16:57:24.204547",
     "status": "completed"
    },
    "tags": []
   },
   "outputs": [],
   "source": [
    "def aggregation(df: pd.DataFrame, labels: pd.DataFrame = None):\n",
    "    \n",
    "    print(\"start aggregating numerical features ..\")\n",
    "    # numerical features aggregated by time period\n",
    "    df_num_agg = df.groupby('customer_ID')[num_features].agg(['mean', 'std', 'min', 'max', 'first', 'last'])\n",
    "    df_num_agg.columns = ['_'.join(x) for x in df_num_agg.columns]\n",
    "    df_num_agg.reset_index()\n",
    "    \n",
    "    print('start creating lag features ..')\n",
    "    # Lag Features: First / Last statemeants\n",
    "    for col in df_num_agg.columns:\n",
    "        if 'last' in col and col.replace('last', 'first') in df_num_agg.columns:\n",
    "            df_num_agg[col + '_lag_sub'] = df_num_agg[col] - df_num_agg[col.replace('last', 'first')]\n",
    "            # df_num_agg[col + '_lag_div'] = df_num_agg[col] / df_num_agg[col.replace('last', 'first')]\n",
    "            \n",
    "    print('start aggregating categorical features ..')\n",
    "    # categorical feartures aggregated by time period\n",
    "    df_cat_agg = df.groupby('customer_ID')[new_cat_cols].agg(['count', 'first', 'last', 'nunique'])\n",
    "    df_cat_agg.columns = ['_'.join(x) for x in df_cat_agg.columns]\n",
    "    df_cat_agg.reset_index()\n",
    "    \n",
    "    # merge sub-dataframe\n",
    "    if labels is not None:\n",
    "        df_agg = df_num_agg.merge(df_cat_agg, how = 'inner', on = 'customer_ID').merge(labels, how = 'inner', on = 'customer_ID')\n",
    "    else:\n",
    "        df_agg = df_num_agg.merge(df_cat_agg, how = 'inner', on = 'customer_ID')\n",
    "    # drop customer_ID after merging\n",
    "    df_agg.drop('customer_ID', axis = 1, inplace = True)\n",
    "    \n",
    "    del df_num_agg, df_cat_agg\n",
    "    \n",
    "    print('feature engineering completed')\n",
    "    print('Dimensions after egineering: ', df_agg.shape )\n",
    "    \n",
    "    return df_agg\n",
    "    "
   ]
  },
  {
   "cell_type": "code",
   "execution_count": 14,
   "id": "39e2ef39",
   "metadata": {
    "execution": {
     "iopub.execute_input": "2024-05-13T16:57:24.255681Z",
     "iopub.status.busy": "2024-05-13T16:57:24.254964Z",
     "iopub.status.idle": "2024-05-13T16:59:01.410690Z",
     "shell.execute_reply": "2024-05-13T16:59:01.409373Z"
    },
    "papermill": {
     "duration": 97.170973,
     "end_time": "2024-05-13T16:59:01.413138",
     "exception": false,
     "start_time": "2024-05-13T16:57:24.242165",
     "status": "completed"
    },
    "tags": []
   },
   "outputs": [
    {
     "name": "stdout",
     "output_type": "stream",
     "text": [
      "start aggregating numerical features ..\n",
      "start creating lag features ..\n",
      "start aggregating categorical features ..\n",
      "feature engineering completed\n",
      "Dimensions after egineering:  (458913, 1376)\n"
     ]
    }
   ],
   "source": [
    "agg_train = aggregation(pro_train.drop(columns=['target']), train_labels)\n",
    "del pro_train"
   ]
  },
  {
   "cell_type": "code",
   "execution_count": 15,
   "id": "3d2b5337",
   "metadata": {
    "execution": {
     "iopub.execute_input": "2024-05-13T16:59:01.439139Z",
     "iopub.status.busy": "2024-05-13T16:59:01.438354Z",
     "iopub.status.idle": "2024-05-13T16:59:01.461476Z",
     "shell.execute_reply": "2024-05-13T16:59:01.460325Z"
    },
    "papermill": {
     "duration": 0.038667,
     "end_time": "2024-05-13T16:59:01.463677",
     "exception": false,
     "start_time": "2024-05-13T16:59:01.425010",
     "status": "completed"
    },
    "tags": []
   },
   "outputs": [
    {
     "data": {
      "text/html": [
       "<div>\n",
       "<style scoped>\n",
       "    .dataframe tbody tr th:only-of-type {\n",
       "        vertical-align: middle;\n",
       "    }\n",
       "\n",
       "    .dataframe tbody tr th {\n",
       "        vertical-align: top;\n",
       "    }\n",
       "\n",
       "    .dataframe thead th {\n",
       "        text-align: right;\n",
       "    }\n",
       "</style>\n",
       "<table border=\"1\" class=\"dataframe\">\n",
       "  <thead>\n",
       "    <tr style=\"text-align: right;\">\n",
       "      <th></th>\n",
       "      <th>P_2_mean</th>\n",
       "      <th>P_2_std</th>\n",
       "      <th>P_2_min</th>\n",
       "      <th>P_2_max</th>\n",
       "      <th>P_2_first</th>\n",
       "      <th>P_2_last</th>\n",
       "      <th>D_39_mean</th>\n",
       "      <th>D_39_std</th>\n",
       "      <th>D_39_min</th>\n",
       "      <th>D_39_max</th>\n",
       "      <th>...</th>\n",
       "      <th>D_68_5_nunique</th>\n",
       "      <th>D_68_6_count</th>\n",
       "      <th>D_68_6_first</th>\n",
       "      <th>D_68_6_last</th>\n",
       "      <th>D_68_6_nunique</th>\n",
       "      <th>D_68_7_count</th>\n",
       "      <th>D_68_7_first</th>\n",
       "      <th>D_68_7_last</th>\n",
       "      <th>D_68_7_nunique</th>\n",
       "      <th>target</th>\n",
       "    </tr>\n",
       "  </thead>\n",
       "  <tbody>\n",
       "    <tr>\n",
       "      <th>0</th>\n",
       "      <td>0.933824</td>\n",
       "      <td>0.024194</td>\n",
       "      <td>0.868580</td>\n",
       "      <td>0.960384</td>\n",
       "      <td>0.938469</td>\n",
       "      <td>0.934745</td>\n",
       "      <td>0.230769</td>\n",
       "      <td>0.832050</td>\n",
       "      <td>0</td>\n",
       "      <td>3</td>\n",
       "      <td>...</td>\n",
       "      <td>1</td>\n",
       "      <td>13</td>\n",
       "      <td>True</td>\n",
       "      <td>True</td>\n",
       "      <td>1</td>\n",
       "      <td>13</td>\n",
       "      <td>False</td>\n",
       "      <td>False</td>\n",
       "      <td>1</td>\n",
       "      <td>0</td>\n",
       "    </tr>\n",
       "    <tr>\n",
       "      <th>1</th>\n",
       "      <td>0.899820</td>\n",
       "      <td>0.022119</td>\n",
       "      <td>0.861109</td>\n",
       "      <td>0.929122</td>\n",
       "      <td>0.929122</td>\n",
       "      <td>0.880519</td>\n",
       "      <td>7.153846</td>\n",
       "      <td>6.743468</td>\n",
       "      <td>0</td>\n",
       "      <td>19</td>\n",
       "      <td>...</td>\n",
       "      <td>1</td>\n",
       "      <td>13</td>\n",
       "      <td>True</td>\n",
       "      <td>True</td>\n",
       "      <td>1</td>\n",
       "      <td>13</td>\n",
       "      <td>False</td>\n",
       "      <td>False</td>\n",
       "      <td>1</td>\n",
       "      <td>0</td>\n",
       "    </tr>\n",
       "    <tr>\n",
       "      <th>2</th>\n",
       "      <td>0.878454</td>\n",
       "      <td>0.028911</td>\n",
       "      <td>0.797670</td>\n",
       "      <td>0.904482</td>\n",
       "      <td>0.876615</td>\n",
       "      <td>0.880875</td>\n",
       "      <td>0.000000</td>\n",
       "      <td>0.000000</td>\n",
       "      <td>0</td>\n",
       "      <td>0</td>\n",
       "      <td>...</td>\n",
       "      <td>1</td>\n",
       "      <td>13</td>\n",
       "      <td>True</td>\n",
       "      <td>True</td>\n",
       "      <td>1</td>\n",
       "      <td>13</td>\n",
       "      <td>False</td>\n",
       "      <td>False</td>\n",
       "      <td>1</td>\n",
       "      <td>0</td>\n",
       "    </tr>\n",
       "    <tr>\n",
       "      <th>3</th>\n",
       "      <td>0.598969</td>\n",
       "      <td>0.020107</td>\n",
       "      <td>0.567442</td>\n",
       "      <td>0.623392</td>\n",
       "      <td>0.567442</td>\n",
       "      <td>0.621776</td>\n",
       "      <td>1.538462</td>\n",
       "      <td>3.017046</td>\n",
       "      <td>0</td>\n",
       "      <td>9</td>\n",
       "      <td>...</td>\n",
       "      <td>1</td>\n",
       "      <td>13</td>\n",
       "      <td>False</td>\n",
       "      <td>False</td>\n",
       "      <td>2</td>\n",
       "      <td>13</td>\n",
       "      <td>False</td>\n",
       "      <td>False</td>\n",
       "      <td>1</td>\n",
       "      <td>0</td>\n",
       "    </tr>\n",
       "    <tr>\n",
       "      <th>4</th>\n",
       "      <td>0.891679</td>\n",
       "      <td>0.042325</td>\n",
       "      <td>0.805045</td>\n",
       "      <td>0.940382</td>\n",
       "      <td>0.936842</td>\n",
       "      <td>0.871900</td>\n",
       "      <td>0.000000</td>\n",
       "      <td>0.000000</td>\n",
       "      <td>0</td>\n",
       "      <td>0</td>\n",
       "      <td>...</td>\n",
       "      <td>1</td>\n",
       "      <td>13</td>\n",
       "      <td>True</td>\n",
       "      <td>True</td>\n",
       "      <td>1</td>\n",
       "      <td>13</td>\n",
       "      <td>False</td>\n",
       "      <td>False</td>\n",
       "      <td>1</td>\n",
       "      <td>0</td>\n",
       "    </tr>\n",
       "  </tbody>\n",
       "</table>\n",
       "<p>5 rows × 1376 columns</p>\n",
       "</div>"
      ],
      "text/plain": [
       "   P_2_mean   P_2_std   P_2_min   P_2_max  P_2_first  P_2_last  D_39_mean  \\\n",
       "0  0.933824  0.024194  0.868580  0.960384   0.938469  0.934745   0.230769   \n",
       "1  0.899820  0.022119  0.861109  0.929122   0.929122  0.880519   7.153846   \n",
       "2  0.878454  0.028911  0.797670  0.904482   0.876615  0.880875   0.000000   \n",
       "3  0.598969  0.020107  0.567442  0.623392   0.567442  0.621776   1.538462   \n",
       "4  0.891679  0.042325  0.805045  0.940382   0.936842  0.871900   0.000000   \n",
       "\n",
       "   D_39_std  D_39_min  D_39_max  ...  D_68_5_nunique  D_68_6_count  \\\n",
       "0  0.832050         0         3  ...               1            13   \n",
       "1  6.743468         0        19  ...               1            13   \n",
       "2  0.000000         0         0  ...               1            13   \n",
       "3  3.017046         0         9  ...               1            13   \n",
       "4  0.000000         0         0  ...               1            13   \n",
       "\n",
       "   D_68_6_first  D_68_6_last  D_68_6_nunique  D_68_7_count  D_68_7_first  \\\n",
       "0          True         True               1            13         False   \n",
       "1          True         True               1            13         False   \n",
       "2          True         True               1            13         False   \n",
       "3         False        False               2            13         False   \n",
       "4          True         True               1            13         False   \n",
       "\n",
       "   D_68_7_last  D_68_7_nunique  target  \n",
       "0        False               1       0  \n",
       "1        False               1       0  \n",
       "2        False               1       0  \n",
       "3        False               1       0  \n",
       "4        False               1       0  \n",
       "\n",
       "[5 rows x 1376 columns]"
      ]
     },
     "execution_count": 15,
     "metadata": {},
     "output_type": "execute_result"
    }
   ],
   "source": [
    "agg_train.head()"
   ]
  },
  {
   "cell_type": "markdown",
   "id": "b1f21575",
   "metadata": {
    "papermill": {
     "duration": 0.011782,
     "end_time": "2024-05-13T16:59:01.487839",
     "exception": false,
     "start_time": "2024-05-13T16:59:01.476057",
     "status": "completed"
    },
    "tags": []
   },
   "source": [
    "**Handle MISSING VALUES 2**"
   ]
  },
  {
   "cell_type": "code",
   "execution_count": 16,
   "id": "5e382149",
   "metadata": {
    "execution": {
     "iopub.execute_input": "2024-05-13T16:59:01.621543Z",
     "iopub.status.busy": "2024-05-13T16:59:01.620590Z",
     "iopub.status.idle": "2024-05-13T16:59:02.261310Z",
     "shell.execute_reply": "2024-05-13T16:59:02.260306Z"
    },
    "papermill": {
     "duration": 0.656424,
     "end_time": "2024-05-13T16:59:02.263647",
     "exception": false,
     "start_time": "2024-05-13T16:59:01.607223",
     "status": "completed"
    },
    "tags": []
   },
   "outputs": [
    {
     "data": {
      "text/html": [
       "<div>\n",
       "<style scoped>\n",
       "    .dataframe tbody tr th:only-of-type {\n",
       "        vertical-align: middle;\n",
       "    }\n",
       "\n",
       "    .dataframe tbody tr th {\n",
       "        vertical-align: top;\n",
       "    }\n",
       "\n",
       "    .dataframe thead th {\n",
       "        text-align: right;\n",
       "    }\n",
       "</style>\n",
       "<table border=\"1\" class=\"dataframe\">\n",
       "  <thead>\n",
       "    <tr style=\"text-align: right;\">\n",
       "      <th></th>\n",
       "      <th>Feature</th>\n",
       "      <th>Number of missing values</th>\n",
       "      <th>% missing</th>\n",
       "    </tr>\n",
       "  </thead>\n",
       "  <tbody>\n",
       "    <tr>\n",
       "      <th>0</th>\n",
       "      <td>D_135_std</td>\n",
       "      <td>5120</td>\n",
       "      <td>1.12</td>\n",
       "    </tr>\n",
       "    <tr>\n",
       "      <th>1</th>\n",
       "      <td>D_56_std</td>\n",
       "      <td>5120</td>\n",
       "      <td>1.12</td>\n",
       "    </tr>\n",
       "    <tr>\n",
       "      <th>2</th>\n",
       "      <td>S_8_std</td>\n",
       "      <td>5120</td>\n",
       "      <td>1.12</td>\n",
       "    </tr>\n",
       "    <tr>\n",
       "      <th>3</th>\n",
       "      <td>R_22_std</td>\n",
       "      <td>5120</td>\n",
       "      <td>1.12</td>\n",
       "    </tr>\n",
       "    <tr>\n",
       "      <th>4</th>\n",
       "      <td>B_8_std</td>\n",
       "      <td>5120</td>\n",
       "      <td>1.12</td>\n",
       "    </tr>\n",
       "    <tr>\n",
       "      <th>...</th>\n",
       "      <td>...</td>\n",
       "      <td>...</td>\n",
       "      <td>...</td>\n",
       "    </tr>\n",
       "    <tr>\n",
       "      <th>160</th>\n",
       "      <td>D_96_std</td>\n",
       "      <td>5120</td>\n",
       "      <td>1.12</td>\n",
       "    </tr>\n",
       "    <tr>\n",
       "      <th>161</th>\n",
       "      <td>D_105_std</td>\n",
       "      <td>5120</td>\n",
       "      <td>1.12</td>\n",
       "    </tr>\n",
       "    <tr>\n",
       "      <th>162</th>\n",
       "      <td>B_26_std</td>\n",
       "      <td>5120</td>\n",
       "      <td>1.12</td>\n",
       "    </tr>\n",
       "    <tr>\n",
       "      <th>163</th>\n",
       "      <td>B_4_std</td>\n",
       "      <td>5120</td>\n",
       "      <td>1.12</td>\n",
       "    </tr>\n",
       "    <tr>\n",
       "      <th>164</th>\n",
       "      <td>D_71_std</td>\n",
       "      <td>5120</td>\n",
       "      <td>1.12</td>\n",
       "    </tr>\n",
       "  </tbody>\n",
       "</table>\n",
       "<p>165 rows × 3 columns</p>\n",
       "</div>"
      ],
      "text/plain": [
       "       Feature  Number of missing values  % missing\n",
       "0    D_135_std                      5120       1.12\n",
       "1     D_56_std                      5120       1.12\n",
       "2      S_8_std                      5120       1.12\n",
       "3     R_22_std                      5120       1.12\n",
       "4      B_8_std                      5120       1.12\n",
       "..         ...                       ...        ...\n",
       "160   D_96_std                      5120       1.12\n",
       "161  D_105_std                      5120       1.12\n",
       "162   B_26_std                      5120       1.12\n",
       "163    B_4_std                      5120       1.12\n",
       "164   D_71_std                      5120       1.12\n",
       "\n",
       "[165 rows x 3 columns]"
      ]
     },
     "execution_count": 16,
     "metadata": {},
     "output_type": "execute_result"
    }
   ],
   "source": [
    "missing_values = agg_train.isnull().sum()\n",
    "missing_df = missing_values.to_frame().reset_index().rename(columns={\"index\": \"Feature\", 0: \"Number of missing values\"}).sort_values([\"Number of missing values\"], ascending=False).reset_index(drop=True)\n",
    "missing_df['% missing'] = np.round((missing_df[\"Number of missing values\"] /len(agg_train) )*100, 2)\n",
    "missing_df = missing_df[missing_df['% missing'] != 0]\n",
    "missing_df"
   ]
  },
  {
   "cell_type": "markdown",
   "id": "294a9235",
   "metadata": {
    "papermill": {
     "duration": 0.011951,
     "end_time": "2024-05-13T16:59:02.288122",
     "exception": false,
     "start_time": "2024-05-13T16:59:02.276171",
     "status": "completed"
    },
    "tags": []
   },
   "source": [
    "Obseravtion: the % of missing values for _std columns is only 1.12%, then i decide to drop all the rows with missing values"
   ]
  },
  {
   "cell_type": "code",
   "execution_count": 17,
   "id": "0e8a6121",
   "metadata": {
    "execution": {
     "iopub.execute_input": "2024-05-13T16:59:02.314568Z",
     "iopub.status.busy": "2024-05-13T16:59:02.314173Z",
     "iopub.status.idle": "2024-05-13T16:59:03.279931Z",
     "shell.execute_reply": "2024-05-13T16:59:03.278661Z"
    },
    "papermill": {
     "duration": 0.982145,
     "end_time": "2024-05-13T16:59:03.282512",
     "exception": false,
     "start_time": "2024-05-13T16:59:02.300367",
     "status": "completed"
    },
    "tags": []
   },
   "outputs": [
    {
     "name": "stdout",
     "output_type": "stream",
     "text": [
      "<class 'pandas.core.frame.DataFrame'>\n",
      "Index: 453793 entries, 0 to 458912\n",
      "Columns: 1376 entries, P_2_mean to target\n",
      "dtypes: bool(110), float32(567), float64(168), int16(45), int64(111), int8(375)\n",
      "memory usage: 2.1 GB\n"
     ]
    }
   ],
   "source": [
    "agg_train.dropna(subset=['D_135_std'], inplace=True)\n",
    "agg_train.info()"
   ]
  },
  {
   "cell_type": "code",
   "execution_count": 18,
   "id": "a41540e7",
   "metadata": {
    "execution": {
     "iopub.execute_input": "2024-05-13T16:59:03.309322Z",
     "iopub.status.busy": "2024-05-13T16:59:03.308921Z",
     "iopub.status.idle": "2024-05-13T16:59:03.313627Z",
     "shell.execute_reply": "2024-05-13T16:59:03.312626Z"
    },
    "papermill": {
     "duration": 0.020641,
     "end_time": "2024-05-13T16:59:03.315753",
     "exception": false,
     "start_time": "2024-05-13T16:59:03.295112",
     "status": "completed"
    },
    "tags": []
   },
   "outputs": [],
   "source": [
    "del missing_values\n",
    "del missing_df"
   ]
  },
  {
   "cell_type": "markdown",
   "id": "ceb1652f",
   "metadata": {
    "papermill": {
     "duration": 0.012276,
     "end_time": "2024-05-13T16:59:03.340642",
     "exception": false,
     "start_time": "2024-05-13T16:59:03.328366",
     "status": "completed"
    },
    "tags": []
   },
   "source": [
    "**Convert boolean values to numerical data**"
   ]
  },
  {
   "cell_type": "code",
   "execution_count": 19,
   "id": "571a8eab",
   "metadata": {
    "execution": {
     "iopub.execute_input": "2024-05-13T16:59:03.367679Z",
     "iopub.status.busy": "2024-05-13T16:59:03.367301Z",
     "iopub.status.idle": "2024-05-13T16:59:04.115510Z",
     "shell.execute_reply": "2024-05-13T16:59:04.114421Z"
    },
    "papermill": {
     "duration": 0.764931,
     "end_time": "2024-05-13T16:59:04.118076",
     "exception": false,
     "start_time": "2024-05-13T16:59:03.353145",
     "status": "completed"
    },
    "tags": []
   },
   "outputs": [],
   "source": [
    "features= agg_train.drop(['target'], axis = 1).columns.to_list()\n",
    "cat_cols = [col for col in features if agg_train[col].dtype == 'O' or agg_train[col].dtype == 'bool']"
   ]
  },
  {
   "cell_type": "code",
   "execution_count": 20,
   "id": "332f9abb",
   "metadata": {
    "execution": {
     "iopub.execute_input": "2024-05-13T16:59:04.145773Z",
     "iopub.status.busy": "2024-05-13T16:59:04.145362Z",
     "iopub.status.idle": "2024-05-13T16:59:39.482954Z",
     "shell.execute_reply": "2024-05-13T16:59:39.481772Z"
    },
    "papermill": {
     "duration": 35.365932,
     "end_time": "2024-05-13T16:59:39.497186",
     "exception": false,
     "start_time": "2024-05-13T16:59:04.131254",
     "status": "completed"
    },
    "tags": []
   },
   "outputs": [
    {
     "name": "stdout",
     "output_type": "stream",
     "text": [
      "done!\n"
     ]
    }
   ],
   "source": [
    "# Define the conversion function\n",
    "def convert_to_numeric(value):\n",
    "    mapping = {\"[True]\": 1, \"[False]\": 0}\n",
    "    if isinstance(value, bool):\n",
    "        return int(value)\n",
    "    elif isinstance(value, str):\n",
    "        return mapping.get(value, value)\n",
    "    else:\n",
    "        return value\n",
    "\n",
    "# Apply the conversion function to columns with object and boolean dtype\n",
    "for col in cat_cols:\n",
    "    agg_train[col] = agg_train[col].apply(lambda x: convert_to_numeric(x))\n",
    "print(\"done!\")\n"
   ]
  },
  {
   "cell_type": "markdown",
   "id": "b4367290",
   "metadata": {
    "papermill": {
     "duration": 0.012156,
     "end_time": "2024-05-13T16:59:39.522053",
     "exception": false,
     "start_time": "2024-05-13T16:59:39.509897",
     "status": "completed"
    },
    "tags": []
   },
   "source": [
    "**Feature Selection**"
   ]
  },
  {
   "cell_type": "markdown",
   "id": "dcd55e17",
   "metadata": {
    "papermill": {
     "duration": 0.012315,
     "end_time": "2024-05-13T16:59:39.546873",
     "exception": false,
     "start_time": "2024-05-13T16:59:39.534558",
     "status": "completed"
    },
    "tags": []
   },
   "source": [
    "**1/ Correlation Matrix**"
   ]
  },
  {
   "cell_type": "code",
   "execution_count": 21,
   "id": "5a7ddd17",
   "metadata": {
    "execution": {
     "iopub.execute_input": "2024-05-13T16:59:39.573766Z",
     "iopub.status.busy": "2024-05-13T16:59:39.573345Z",
     "iopub.status.idle": "2024-05-13T16:59:39.577928Z",
     "shell.execute_reply": "2024-05-13T16:59:39.576808Z"
    },
    "papermill": {
     "duration": 0.02078,
     "end_time": "2024-05-13T16:59:39.580147",
     "exception": false,
     "start_time": "2024-05-13T16:59:39.559367",
     "status": "completed"
    },
    "tags": []
   },
   "outputs": [],
   "source": [
    "# correlation_matrix = agg_train[features].corr()"
   ]
  },
  {
   "cell_type": "code",
   "execution_count": 22,
   "id": "bc2050f1",
   "metadata": {
    "execution": {
     "iopub.execute_input": "2024-05-13T16:59:39.607214Z",
     "iopub.status.busy": "2024-05-13T16:59:39.606833Z",
     "iopub.status.idle": "2024-05-13T16:59:39.613837Z",
     "shell.execute_reply": "2024-05-13T16:59:39.612768Z"
    },
    "papermill": {
     "duration": 0.02322,
     "end_time": "2024-05-13T16:59:39.616233",
     "exception": false,
     "start_time": "2024-05-13T16:59:39.593013",
     "status": "completed"
    },
    "tags": []
   },
   "outputs": [
    {
     "data": {
      "text/plain": [
       "\"\\n# Auto drop columns with high correlation coeffition (>80%)\\ncolumns = np.full((correlation_matrix.shape[0],), True, dtype=bool)\\nfor i in range(correlation_matrix.shape[0]):\\n    for j in range(i+1, correlation_matrix.shape[0]):\\n        if correlation_matrix.iloc[i,j] >= 0.8:\\n            if columns[j]:\\n                columns[j] = False\\nselected_columns = agg_train.drop(columns=['target']).columns[columns]\\n\""
      ]
     },
     "execution_count": 22,
     "metadata": {},
     "output_type": "execute_result"
    }
   ],
   "source": [
    "'''\n",
    "# Auto drop columns with high correlation coeffition (>80%)\n",
    "columns = np.full((correlation_matrix.shape[0],), True, dtype=bool)\n",
    "for i in range(correlation_matrix.shape[0]):\n",
    "    for j in range(i+1, correlation_matrix.shape[0]):\n",
    "        if correlation_matrix.iloc[i,j] >= 0.8:\n",
    "            if columns[j]:\n",
    "                columns[j] = False\n",
    "selected_columns = agg_train.drop(columns=['target']).columns[columns]\n",
    "'''"
   ]
  },
  {
   "cell_type": "code",
   "execution_count": 23,
   "id": "4d719107",
   "metadata": {
    "execution": {
     "iopub.execute_input": "2024-05-13T16:59:39.643618Z",
     "iopub.status.busy": "2024-05-13T16:59:39.643226Z",
     "iopub.status.idle": "2024-05-13T16:59:39.647820Z",
     "shell.execute_reply": "2024-05-13T16:59:39.646790Z"
    },
    "papermill": {
     "duration": 0.020668,
     "end_time": "2024-05-13T16:59:39.649871",
     "exception": false,
     "start_time": "2024-05-13T16:59:39.629203",
     "status": "completed"
    },
    "tags": []
   },
   "outputs": [],
   "source": [
    "# selected_columns = selected_columns.to_numpy()"
   ]
  },
  {
   "cell_type": "code",
   "execution_count": 24,
   "id": "cde9c3c4",
   "metadata": {
    "execution": {
     "iopub.execute_input": "2024-05-13T16:59:39.677797Z",
     "iopub.status.busy": "2024-05-13T16:59:39.676642Z",
     "iopub.status.idle": "2024-05-13T16:59:39.683769Z",
     "shell.execute_reply": "2024-05-13T16:59:39.682635Z"
    },
    "papermill": {
     "duration": 0.023326,
     "end_time": "2024-05-13T16:59:39.686061",
     "exception": false,
     "start_time": "2024-05-13T16:59:39.662735",
     "status": "completed"
    },
    "tags": []
   },
   "outputs": [
    {
     "data": {
      "text/plain": [
       "'\\nprint(\"selected features after correlation filtering at 80%: \", len(selected_columns))\\n# Convert array to a list of strings with commas and single quotes\\narray_str = \\', \\'.join(f\"\\'{elem}\\'\" for elem in selected_columns)\\nprint(f\"[{array_str}]\")\\n'"
      ]
     },
     "execution_count": 24,
     "metadata": {},
     "output_type": "execute_result"
    }
   ],
   "source": [
    "'''\n",
    "print(\"selected features after correlation filtering at 80%: \", len(selected_columns))\n",
    "# Convert array to a list of strings with commas and single quotes\n",
    "array_str = ', '.join(f\"'{elem}'\" for elem in selected_columns)\n",
    "print(f\"[{array_str}]\")\n",
    "'''"
   ]
  },
  {
   "cell_type": "code",
   "execution_count": 25,
   "id": "16f6b7e3",
   "metadata": {
    "execution": {
     "iopub.execute_input": "2024-05-13T16:59:39.713927Z",
     "iopub.status.busy": "2024-05-13T16:59:39.713540Z",
     "iopub.status.idle": "2024-05-13T16:59:39.885750Z",
     "shell.execute_reply": "2024-05-13T16:59:39.884433Z"
    },
    "papermill": {
     "duration": 0.189067,
     "end_time": "2024-05-13T16:59:39.888209",
     "exception": false,
     "start_time": "2024-05-13T16:59:39.699142",
     "status": "completed"
    },
    "tags": []
   },
   "outputs": [
    {
     "name": "stdout",
     "output_type": "stream",
     "text": [
      "number of selected features:  720\n"
     ]
    }
   ],
   "source": [
    "selected_columns = ['P_2_mean', 'P_2_std', 'D_39_mean', 'D_39_min', 'D_39_first', 'D_39_last', 'B_1_mean', 'B_1_std', 'B_2_mean', 'B_2_std', 'B_2_max', 'B_2_first', 'R_1_mean', 'R_1_min', 'R_1_first', 'R_1_last', 'S_3_mean', 'S_3_std', 'S_3_first', 'D_41_mean', 'D_41_std', 'D_41_min', 'D_41_first', 'B_3_mean', 'B_3_std', 'D_43_mean', 'D_43_std', 'D_43_first', 'D_43_last', 'D_44_mean', 'D_44_std', 'B_4_mean', 'B_4_std', 'D_45_mean', 'D_45_std', 'B_5_mean', 'B_5_min', 'B_5_first', 'B_5_last', 'R_2_mean', 'R_2_std', 'R_2_min', 'R_2_first', 'R_2_last', 'D_46_mean', 'D_46_std', 'D_46_min', 'D_46_first', 'D_46_last', 'D_47_mean', 'D_47_std', 'D_48_mean', 'D_48_std', 'D_49_mean', 'D_49_std', 'D_49_min', 'B_6_mean', 'B_6_min', 'B_6_first', 'B_6_last', 'B_7_mean', 'B_7_std', 'B_8_mean', 'B_8_std', 'D_50_mean', 'D_50_std', 'D_50_min', 'D_50_first', 'D_50_last', 'D_51_mean', 'D_51_std', 'B_9_mean', 'B_9_std', 'R_3_mean', 'R_3_std', 'R_3_min', 'R_3_first', 'R_3_last', 'D_52_mean', 'D_52_std', 'P_3_mean', 'P_3_std', 'P_3_min', 'P_3_max', 'P_3_first', 'P_3_last', 'B_10_mean', 'B_10_min', 'B_10_first', 'B_10_last', 'S_5_mean', 'S_5_min', 'S_5_first', 'S_5_last', 'S_6_mean', 'S_6_std', 'S_6_max', 'S_6_first', 'D_54_mean', 'D_54_std', 'D_54_min', 'D_54_max', 'D_54_first', 'R_4_min', 'R_4_first', 'R_4_last', 'B_12_mean', 'B_12_std', 'S_8_mean', 'S_8_std', 'D_55_std', 'D_56_mean', 'D_56_std', 'R_5_min', 'R_5_first', 'R_5_last', 'D_58_mean', 'D_58_std', 'S_9_mean', 'S_9_min', 'S_9_first', 'S_9_last', 'B_14_mean', 'D_59_mean', 'D_59_std', 'D_59_min', 'D_60_mean', 'D_60_std', 'D_61_std', 'S_11_mean', 'S_11_std', 'S_11_min', 'S_11_max', 'S_11_first', 'S_11_last', 'D_62_mean', 'D_62_std', 'D_65_mean', 'D_65_min', 'D_65_first', 'D_65_last', 'B_16_mean', 'B_16_std', 'B_17_mean', 'B_17_std', 'B_17_min', 'B_17_max', 'B_17_first', 'B_17_last', 'B_18_std', 'B_19_std', 'B_20_std', 'S_12_mean', 'S_12_min', 'S_12_first', 'S_12_last', 'R_6_mean', 'R_6_min', 'R_6_first', 'R_6_last', 'S_13_mean', 'S_13_std', 'B_21_mean', 'B_21_min', 'B_21_first', 'B_21_last', 'D_69_mean', 'D_69_min', 'D_69_last', 'B_22_std', 'B_22_min', 'B_22_first', 'D_70_mean', 'D_70_std', 'D_70_min', 'D_70_first', 'D_70_last', 'D_71_mean', 'D_71_std', 'D_71_min', 'D_72_mean', 'D_72_std', 'D_72_min', 'D_72_first', 'S_15_mean', 'S_15_std', 'S_15_min', 'S_15_max', 'S_15_first', 'S_15_last', 'P_4_mean', 'P_4_std', 'B_24_mean', 'B_24_min', 'B_24_first', 'R_7_mean', 'R_7_min', 'R_7_first', 'R_7_last', 'D_77_std', 'B_25_mean', 'B_25_std', 'B_26_mean', 'B_26_min', 'B_26_first', 'B_26_last', 'D_78_mean', 'D_78_std', 'D_78_min', 'D_78_first', 'D_79_mean', 'D_79_std', 'D_79_min', 'R_8_min', 'R_8_first', 'R_9_mean', 'R_9_std', 'S_16_mean', 'S_16_min', 'S_16_first', 'S_16_last', 'D_80_mean', 'D_80_std', 'D_80_min', 'R_10_min', 'R_10_first', 'R_10_last', 'R_11_mean', 'R_11_min', 'R_11_first', 'R_11_last', 'B_27_mean', 'B_27_std', 'B_27_min', 'B_27_first', 'B_27_last', 'D_81_mean', 'D_81_std', 'D_81_min', 'D_81_first', 'D_82_mean', 'D_82_std', 'S_17_mean', 'S_17_min', 'S_17_first', 'S_17_last', 'R_12_mean', 'R_12_std', 'R_12_max', 'R_12_first', 'B_28_mean', 'R_13_min', 'R_13_first', 'R_13_last', 'D_83_mean', 'D_83_std', 'D_83_min', 'R_14_mean', 'R_14_min', 'R_14_first', 'R_14_last', 'R_15_mean', 'R_15_min', 'R_15_first', 'R_15_last', 'D_84_min', 'D_84_first', 'R_16_mean', 'R_16_min', 'R_16_first', 'R_16_last', 'S_18_mean', 'S_18_std', 'S_18_min', 'S_18_last', 'D_86_mean', 'D_86_std', 'D_87_mean', 'D_87_std', 'D_87_min', 'D_87_first', 'R_17_min', 'R_17_first', 'R_17_last', 'R_18_mean', 'R_18_min', 'R_18_first', 'R_18_last', 'B_31_mean', 'B_31_std', 'B_31_max', 'B_31_first', 'B_31_last', 'S_19_mean', 'S_19_std', 'S_19_min', 'S_19_first', 'S_19_last', 'R_19_mean', 'R_19_std', 'B_32_mean', 'B_32_std', 'B_32_min', 'B_32_first', 'B_32_last', 'S_20_mean', 'S_20_std', 'S_20_min', 'S_20_first', 'S_20_last', 'R_20_min', 'R_20_first', 'R_20_last', 'R_21_std', 'R_21_min', 'R_21_first', 'R_21_last', 'D_89_mean', 'D_89_last', 'R_22_mean', 'R_22_min', 'R_22_first', 'R_22_last', 'R_23_mean', 'R_23_min', 'R_23_first', 'R_23_last', 'D_91_mean', 'D_91_std', 'D_91_min', 'D_92_mean', 'D_92_std', 'D_92_min', 'D_93_mean', 'D_93_std', 'D_93_min', 'D_94_mean', 'D_94_std', 'D_94_min', 'R_24_mean', 'R_24_min', 'R_24_first', 'R_24_last', 'R_25_mean', 'R_25_min', 'R_25_first', 'R_25_last', 'D_96_mean', 'D_96_std', 'D_96_min', 'D_96_first', 'D_96_last', 'S_22_mean', 'S_22_std', 'S_22_min', 'S_22_max', 'S_22_first', 'S_22_last', 'S_23_mean', 'S_23_std', 'S_23_min', 'S_23_first', 'S_23_last', 'S_25_mean', 'S_25_std', 'S_25_max', 'S_25_first', 'S_25_last', 'S_26_mean', 'D_102_mean', 'D_102_std', 'D_103_mean', 'D_103_std', 'D_103_min', 'D_105_mean', 'D_105_std', 'D_106_mean', 'D_106_min', 'D_106_first', 'B_36_mean', 'B_36_std', 'B_36_min', 'R_26_mean', 'R_26_std', 'R_27_mean', 'R_27_std', 'D_108_mean', 'D_108_min', 'D_108_first', 'D_108_last', 'D_109_mean', 'D_109_std', 'D_109_min', 'D_112_mean', 'D_112_std', 'D_112_max', 'D_112_first', 'D_112_last', 'B_40_mean', 'B_40_min', 'B_40_first', 'B_40_last', 'S_27_mean', 'S_27_std', 'S_27_min', 'S_27_first', 'S_27_last', 'D_113_mean', 'D_113_std', 'D_115_mean', 'D_115_std', 'D_118_std', 'D_121_mean', 'D_121_std', 'D_122_mean', 'D_122_std', 'D_123_mean', 'D_123_std', 'D_123_max', 'D_123_last', 'D_124_mean', 'D_124_std', 'D_125_mean', 'D_125_std', 'D_125_max', 'D_125_first', 'D_125_last', 'D_127_mean', 'D_127_std', 'D_127_min', 'D_128_mean', 'D_128_std', 'D_129_mean', 'D_129_std', 'D_129_min', 'B_41_mean', 'B_41_min', 'B_41_first', 'D_130_mean', 'D_130_std', 'D_131_std', 'D_133_mean', 'D_133_std', 'D_133_min', 'D_133_first', 'R_28_mean', 'R_28_std', 'R_28_min', 'R_28_first', 'R_28_last', 'D_135_mean', 'D_135_min', 'D_135_first', 'D_135_last', 'D_139_mean', 'D_139_std', 'D_139_min', 'D_140_mean', 'D_140_std', 'D_140_min', 'D_140_last', 'D_144_mean', 'D_144_std', 'D_145_mean', 'D_145_std', 'B_1_last_lag_sub', 'B_2_last_lag_sub', 'R_1_last_lag_sub', 'S_3_last_lag_sub', 'B_3_last_lag_sub', 'D_43_last_lag_sub', 'D_44_last_lag_sub', 'B_4_last_lag_sub', 'D_45_last_lag_sub', 'B_5_last_lag_sub', 'D_46_last_lag_sub', 'D_47_last_lag_sub', 'D_48_last_lag_sub', 'D_49_last_lag_sub', 'B_6_last_lag_sub', 'B_7_last_lag_sub', 'B_8_last_lag_sub', 'D_50_last_lag_sub', 'D_51_last_lag_sub', 'B_9_last_lag_sub', 'R_3_last_lag_sub', 'D_52_last_lag_sub', 'B_10_last_lag_sub', 'S_5_last_lag_sub', 'S_6_last_lag_sub', 'B_12_last_lag_sub', 'S_8_last_lag_sub', 'D_55_last_lag_sub', 'D_56_last_lag_sub', 'B_13_last_lag_sub', 'D_58_last_lag_sub', 'S_9_last_lag_sub', 'B_14_last_lag_sub', 'D_60_last_lag_sub', 'D_61_last_lag_sub', 'S_11_last_lag_sub', 'D_62_last_lag_sub', 'B_16_last_lag_sub', 'B_17_last_lag_sub', 'B_18_last_lag_sub', 'B_19_last_lag_sub', 'B_20_last_lag_sub', 'S_12_last_lag_sub', 'S_13_last_lag_sub', 'B_21_last_lag_sub', 'D_69_last_lag_sub', 'B_22_last_lag_sub', 'D_70_last_lag_sub', 'D_71_last_lag_sub', 'D_72_last_lag_sub', 'S_15_last_lag_sub', 'P_4_last_lag_sub', 'R_7_last_lag_sub', 'D_77_last_lag_sub', 'B_25_last_lag_sub', 'B_26_last_lag_sub', 'D_78_last_lag_sub', 'D_79_last_lag_sub', 'R_9_last_lag_sub', 'S_16_last_lag_sub', 'D_80_last_lag_sub', 'R_11_last_lag_sub', 'B_27_last_lag_sub', 'D_81_last_lag_sub', 'D_82_last_lag_sub', 'S_17_last_lag_sub', 'R_12_last_lag_sub', 'B_28_last_lag_sub', 'D_83_last_lag_sub', 'R_14_last_lag_sub', 'R_16_last_lag_sub', 'S_18_last_lag_sub', 'D_86_last_lag_sub', 'S_19_last_lag_sub', 'R_19_last_lag_sub', 'B_32_last_lag_sub', 'S_20_last_lag_sub', 'R_21_last_lag_sub', 'D_89_last_lag_sub', 'R_22_last_lag_sub', 'R_23_last_lag_sub', 'D_91_last_lag_sub', 'D_92_last_lag_sub', 'D_93_last_lag_sub', 'D_94_last_lag_sub', 'D_96_last_lag_sub', 'S_22_last_lag_sub', 'S_23_last_lag_sub', 'S_25_last_lag_sub', 'S_26_last_lag_sub', 'D_102_last_lag_sub', 'D_103_last_lag_sub', 'D_104_last_lag_sub', 'D_105_last_lag_sub', 'R_26_last_lag_sub', 'R_27_last_lag_sub', 'D_108_last_lag_sub', 'D_109_last_lag_sub', 'D_112_last_lag_sub', 'B_40_last_lag_sub', 'S_27_last_lag_sub', 'D_113_last_lag_sub', 'D_115_last_lag_sub', 'D_118_last_lag_sub', 'D_121_last_lag_sub', 'D_122_last_lag_sub', 'D_123_last_lag_sub', 'D_125_last_lag_sub', 'D_127_last_lag_sub', 'D_128_last_lag_sub', 'D_129_last_lag_sub', 'B_41_last_lag_sub', 'D_130_last_lag_sub', 'D_131_last_lag_sub', 'D_133_last_lag_sub', 'R_28_last_lag_sub', 'D_135_last_lag_sub', 'D_139_last_lag_sub', 'D_140_last_lag_sub', 'D_141_last_lag_sub', 'D_144_last_lag_sub', 'D_145_last_lag_sub', 'B_30_0_count', 'B_30_0_first', 'B_30_0_last', 'B_30_1_last', 'B_30_2_first', 'B_30_2_last', 'B_30_2_nunique', 'B_30_3_first', 'B_30_3_last', 'B_38_0_first', 'B_38_0_last', 'B_38_0_nunique', 'B_38_1_first', 'B_38_1_last', 'B_38_1_nunique', 'B_38_2_first', 'B_38_2_last', 'B_38_2_nunique', 'B_38_3_first', 'B_38_3_last', 'B_38_3_nunique', 'B_38_4_first', 'B_38_4_last', 'B_38_4_nunique', 'B_38_5_first', 'B_38_5_last', 'B_38_5_nunique', 'B_38_6_first', 'B_38_6_last', 'B_38_6_nunique', 'B_38_7_last', 'D_114_0_first', 'D_114_0_last', 'D_114_0_nunique', 'D_114_1_first', 'D_114_1_last', 'D_114_1_nunique', 'D_114_2_last', 'D_116_0_last', 'D_116_1_first', 'D_116_1_last', 'D_117_0_first', 'D_117_0_last', 'D_117_0_nunique', 'D_117_1_first', 'D_117_1_last', 'D_117_1_nunique', 'D_117_2_first', 'D_117_2_last', 'D_117_2_nunique', 'D_117_3_first', 'D_117_3_last', 'D_117_3_nunique', 'D_117_4_first', 'D_117_4_last', 'D_117_4_nunique', 'D_117_5_first', 'D_117_5_last', 'D_117_5_nunique', 'D_117_6_first', 'D_117_6_last', 'D_117_6_nunique', 'D_120_0_first', 'D_120_0_last', 'D_120_0_nunique', 'D_120_1_first', 'D_120_1_last', 'D_120_1_nunique', 'D_126_0_first', 'D_126_0_last', 'D_126_0_nunique', 'D_126_1_first', 'D_126_1_last', 'D_126_1_nunique', 'D_126_2_first', 'D_126_2_last', 'D_126_2_nunique', 'D_126_3_last', 'D_63_0_nunique', 'D_63_1_first', 'D_63_1_last', 'D_63_1_nunique', 'D_63_2_first', 'D_63_2_last', 'D_63_2_nunique', 'D_63_3_first', 'D_63_3_nunique', 'D_63_4_first', 'D_63_4_last', 'D_63_4_nunique', 'D_63_5_first', 'D_63_5_last', 'D_63_5_nunique', 'D_64_0_first', 'D_64_0_last', 'D_64_0_nunique', 'D_64_1_first', 'D_64_1_last', 'D_64_1_nunique', 'D_64_2_first', 'D_64_2_last', 'D_64_2_nunique', 'D_64_3_first', 'D_64_3_last', 'D_64_3_nunique', 'D_64_4_last', 'D_66_0_first', 'D_66_0_last', 'D_66_0_nunique', 'D_66_1_first', 'D_66_1_nunique', 'D_66_2_first', 'D_66_2_nunique', 'D_68_0_first', 'D_68_0_last', 'D_68_1_first', 'D_68_1_last', 'D_68_1_nunique', 'D_68_2_first', 'D_68_2_last', 'D_68_2_nunique', 'D_68_3_first', 'D_68_3_last', 'D_68_3_nunique', 'D_68_4_first', 'D_68_4_last', 'D_68_4_nunique', 'D_68_5_first', 'D_68_5_last', 'D_68_5_nunique', 'D_68_6_first', 'D_68_6_last', 'D_68_6_nunique']\n",
    "print(\"number of selected features: \",len(selected_columns))"
   ]
  },
  {
   "cell_type": "code",
   "execution_count": 26,
   "id": "2cb15034",
   "metadata": {
    "execution": {
     "iopub.execute_input": "2024-05-13T16:59:39.917588Z",
     "iopub.status.busy": "2024-05-13T16:59:39.917214Z",
     "iopub.status.idle": "2024-05-13T16:59:43.028136Z",
     "shell.execute_reply": "2024-05-13T16:59:43.026950Z"
    },
    "papermill": {
     "duration": 3.129356,
     "end_time": "2024-05-13T16:59:43.030825",
     "exception": false,
     "start_time": "2024-05-13T16:59:39.901469",
     "status": "completed"
    },
    "tags": []
   },
   "outputs": [],
   "source": [
    "x= agg_train[selected_columns]\n",
    "y= agg_train['target']\n",
    "from sklearn.model_selection import train_test_split\n",
    "from sklearn.metrics import classification_report, confusion_matrix\n",
    "import seaborn as sns\n",
    "\n",
    "# split data train 70 % and test 30 %\n",
    "x_train, x_test, y_train, y_test = train_test_split(x, y, test_size=0.3, random_state=42)\n"
   ]
  },
  {
   "cell_type": "markdown",
   "id": "f4cd4547",
   "metadata": {
    "papermill": {
     "duration": 0.012742,
     "end_time": "2024-05-13T16:59:43.056693",
     "exception": false,
     "start_time": "2024-05-13T16:59:43.043951",
     "status": "completed"
    },
    "tags": []
   },
   "source": [
    "**2.1/ Recursive Feature Elimination using Cross Validation (RFEcv)**"
   ]
  },
  {
   "cell_type": "code",
   "execution_count": 27,
   "id": "e13eab35",
   "metadata": {
    "execution": {
     "iopub.execute_input": "2024-05-13T16:59:43.084892Z",
     "iopub.status.busy": "2024-05-13T16:59:43.083788Z",
     "iopub.status.idle": "2024-05-13T16:59:44.013419Z",
     "shell.execute_reply": "2024-05-13T16:59:44.012181Z"
    },
    "papermill": {
     "duration": 0.946104,
     "end_time": "2024-05-13T16:59:44.015785",
     "exception": false,
     "start_time": "2024-05-13T16:59:43.069681",
     "status": "completed"
    },
    "tags": []
   },
   "outputs": [
    {
     "data": {
      "text/plain": [
       "\"\\nlgbm = LGBMClassifier()\\n# rfecv = RFECV(estimator=lgbm, step = 10, scoring='roc_auc')\\nrfe = RFECV(estimator=lgbm, step=20, cv=KFold(n_splits=5, shuffle=False), scoring='roc_auc', verbose=1)\\n\\nrfe.fit(x_train, y_train)\\n\""
      ]
     },
     "execution_count": 27,
     "metadata": {},
     "output_type": "execute_result"
    }
   ],
   "source": [
    "from sklearn.feature_selection import RFECV\n",
    "from sklearn.metrics import roc_auc_score\n",
    "from lightgbm import LGBMClassifier\n",
    "from sklearn.model_selection import KFold\n",
    "'''\n",
    "lgbm = LGBMClassifier()\n",
    "# rfecv = RFECV(estimator=lgbm, step = 10, scoring='roc_auc')\n",
    "rfe = RFECV(estimator=lgbm, step=20, cv=KFold(n_splits=5, shuffle=False), scoring='roc_auc', verbose=1)\n",
    "\n",
    "rfe.fit(x_train, y_train)\n",
    "'''"
   ]
  },
  {
   "cell_type": "code",
   "execution_count": 28,
   "id": "7d90e1fd",
   "metadata": {
    "execution": {
     "iopub.execute_input": "2024-05-13T16:59:44.044642Z",
     "iopub.status.busy": "2024-05-13T16:59:44.043666Z",
     "iopub.status.idle": "2024-05-13T16:59:44.050563Z",
     "shell.execute_reply": "2024-05-13T16:59:44.049382Z"
    },
    "papermill": {
     "duration": 0.023464,
     "end_time": "2024-05-13T16:59:44.052709",
     "exception": false,
     "start_time": "2024-05-13T16:59:44.029245",
     "status": "completed"
    },
    "tags": []
   },
   "outputs": [
    {
     "data": {
      "text/plain": [
       "'\\nselected_features = np.array(selected_columns)[rfe.get_support()]\\nprint(\"Optimal number of features : %d\" % rfe.n_features_)\\nprint(\\', \\'.join(selected_features))\\n'"
      ]
     },
     "execution_count": 28,
     "metadata": {},
     "output_type": "execute_result"
    }
   ],
   "source": [
    "'''\n",
    "selected_features = np.array(selected_columns)[rfe.get_support()]\n",
    "print(\"Optimal number of features : %d\" % rfe.n_features_)\n",
    "print(', '.join(selected_features))\n",
    "'''"
   ]
  },
  {
   "cell_type": "markdown",
   "id": "e5bac342",
   "metadata": {
    "papermill": {
     "duration": 0.012871,
     "end_time": "2024-05-13T16:59:44.078898",
     "exception": false,
     "start_time": "2024-05-13T16:59:44.066027",
     "status": "completed"
    },
    "tags": []
   },
   "source": [
    "**2.2/ L1 Regularization**"
   ]
  },
  {
   "cell_type": "code",
   "execution_count": 29,
   "id": "6fd6c8dc",
   "metadata": {
    "execution": {
     "iopub.execute_input": "2024-05-13T16:59:44.107301Z",
     "iopub.status.busy": "2024-05-13T16:59:44.106367Z",
     "iopub.status.idle": "2024-05-13T17:08:52.538104Z",
     "shell.execute_reply": "2024-05-13T17:08:52.536413Z"
    },
    "papermill": {
     "duration": 548.462179,
     "end_time": "2024-05-13T17:08:52.554180",
     "exception": false,
     "start_time": "2024-05-13T16:59:44.092001",
     "status": "completed"
    },
    "tags": []
   },
   "outputs": [
    {
     "data": {
      "text/html": [
       "<style>#sk-container-id-1 {color: black;background-color: white;}#sk-container-id-1 pre{padding: 0;}#sk-container-id-1 div.sk-toggleable {background-color: white;}#sk-container-id-1 label.sk-toggleable__label {cursor: pointer;display: block;width: 100%;margin-bottom: 0;padding: 0.3em;box-sizing: border-box;text-align: center;}#sk-container-id-1 label.sk-toggleable__label-arrow:before {content: \"▸\";float: left;margin-right: 0.25em;color: #696969;}#sk-container-id-1 label.sk-toggleable__label-arrow:hover:before {color: black;}#sk-container-id-1 div.sk-estimator:hover label.sk-toggleable__label-arrow:before {color: black;}#sk-container-id-1 div.sk-toggleable__content {max-height: 0;max-width: 0;overflow: hidden;text-align: left;background-color: #f0f8ff;}#sk-container-id-1 div.sk-toggleable__content pre {margin: 0.2em;color: black;border-radius: 0.25em;background-color: #f0f8ff;}#sk-container-id-1 input.sk-toggleable__control:checked~div.sk-toggleable__content {max-height: 200px;max-width: 100%;overflow: auto;}#sk-container-id-1 input.sk-toggleable__control:checked~label.sk-toggleable__label-arrow:before {content: \"▾\";}#sk-container-id-1 div.sk-estimator input.sk-toggleable__control:checked~label.sk-toggleable__label {background-color: #d4ebff;}#sk-container-id-1 div.sk-label input.sk-toggleable__control:checked~label.sk-toggleable__label {background-color: #d4ebff;}#sk-container-id-1 input.sk-hidden--visually {border: 0;clip: rect(1px 1px 1px 1px);clip: rect(1px, 1px, 1px, 1px);height: 1px;margin: -1px;overflow: hidden;padding: 0;position: absolute;width: 1px;}#sk-container-id-1 div.sk-estimator {font-family: monospace;background-color: #f0f8ff;border: 1px dotted black;border-radius: 0.25em;box-sizing: border-box;margin-bottom: 0.5em;}#sk-container-id-1 div.sk-estimator:hover {background-color: #d4ebff;}#sk-container-id-1 div.sk-parallel-item::after {content: \"\";width: 100%;border-bottom: 1px solid gray;flex-grow: 1;}#sk-container-id-1 div.sk-label:hover label.sk-toggleable__label {background-color: #d4ebff;}#sk-container-id-1 div.sk-serial::before {content: \"\";position: absolute;border-left: 1px solid gray;box-sizing: border-box;top: 0;bottom: 0;left: 50%;z-index: 0;}#sk-container-id-1 div.sk-serial {display: flex;flex-direction: column;align-items: center;background-color: white;padding-right: 0.2em;padding-left: 0.2em;position: relative;}#sk-container-id-1 div.sk-item {position: relative;z-index: 1;}#sk-container-id-1 div.sk-parallel {display: flex;align-items: stretch;justify-content: center;background-color: white;position: relative;}#sk-container-id-1 div.sk-item::before, #sk-container-id-1 div.sk-parallel-item::before {content: \"\";position: absolute;border-left: 1px solid gray;box-sizing: border-box;top: 0;bottom: 0;left: 50%;z-index: -1;}#sk-container-id-1 div.sk-parallel-item {display: flex;flex-direction: column;z-index: 1;position: relative;background-color: white;}#sk-container-id-1 div.sk-parallel-item:first-child::after {align-self: flex-end;width: 50%;}#sk-container-id-1 div.sk-parallel-item:last-child::after {align-self: flex-start;width: 50%;}#sk-container-id-1 div.sk-parallel-item:only-child::after {width: 0;}#sk-container-id-1 div.sk-dashed-wrapped {border: 1px dashed gray;margin: 0 0.4em 0.5em 0.4em;box-sizing: border-box;padding-bottom: 0.4em;background-color: white;}#sk-container-id-1 div.sk-label label {font-family: monospace;font-weight: bold;display: inline-block;line-height: 1.2em;}#sk-container-id-1 div.sk-label-container {text-align: center;}#sk-container-id-1 div.sk-container {/* jupyter's `normalize.less` sets `[hidden] { display: none; }` but bootstrap.min.css set `[hidden] { display: none !important; }` so we also need the `!important` here to be able to override the default hidden behavior on the sphinx rendered scikit-learn.org. See: https://github.com/scikit-learn/scikit-learn/issues/21755 */display: inline-block !important;position: relative;}#sk-container-id-1 div.sk-text-repr-fallback {display: none;}</style><div id=\"sk-container-id-1\" class=\"sk-top-container\"><div class=\"sk-text-repr-fallback\"><pre>SelectFromModel(estimator=LogisticRegression(C=0.5, penalty=&#x27;l1&#x27;,\n",
       "                                             random_state=10,\n",
       "                                             solver=&#x27;liblinear&#x27;))</pre><b>In a Jupyter environment, please rerun this cell to show the HTML representation or trust the notebook. <br />On GitHub, the HTML representation is unable to render, please try loading this page with nbviewer.org.</b></div><div class=\"sk-container\" hidden><div class=\"sk-item sk-dashed-wrapped\"><div class=\"sk-label-container\"><div class=\"sk-label sk-toggleable\"><input class=\"sk-toggleable__control sk-hidden--visually\" id=\"sk-estimator-id-1\" type=\"checkbox\" ><label for=\"sk-estimator-id-1\" class=\"sk-toggleable__label sk-toggleable__label-arrow\">SelectFromModel</label><div class=\"sk-toggleable__content\"><pre>SelectFromModel(estimator=LogisticRegression(C=0.5, penalty=&#x27;l1&#x27;,\n",
       "                                             random_state=10,\n",
       "                                             solver=&#x27;liblinear&#x27;))</pre></div></div></div><div class=\"sk-parallel\"><div class=\"sk-parallel-item\"><div class=\"sk-item\"><div class=\"sk-label-container\"><div class=\"sk-label sk-toggleable\"><input class=\"sk-toggleable__control sk-hidden--visually\" id=\"sk-estimator-id-2\" type=\"checkbox\" ><label for=\"sk-estimator-id-2\" class=\"sk-toggleable__label sk-toggleable__label-arrow\">estimator: LogisticRegression</label><div class=\"sk-toggleable__content\"><pre>LogisticRegression(C=0.5, penalty=&#x27;l1&#x27;, random_state=10, solver=&#x27;liblinear&#x27;)</pre></div></div></div><div class=\"sk-serial\"><div class=\"sk-item\"><div class=\"sk-estimator sk-toggleable\"><input class=\"sk-toggleable__control sk-hidden--visually\" id=\"sk-estimator-id-3\" type=\"checkbox\" ><label for=\"sk-estimator-id-3\" class=\"sk-toggleable__label sk-toggleable__label-arrow\">LogisticRegression</label><div class=\"sk-toggleable__content\"><pre>LogisticRegression(C=0.5, penalty=&#x27;l1&#x27;, random_state=10, solver=&#x27;liblinear&#x27;)</pre></div></div></div></div></div></div></div></div></div></div>"
      ],
      "text/plain": [
       "SelectFromModel(estimator=LogisticRegression(C=0.5, penalty='l1',\n",
       "                                             random_state=10,\n",
       "                                             solver='liblinear'))"
      ]
     },
     "execution_count": 29,
     "metadata": {},
     "output_type": "execute_result"
    }
   ],
   "source": [
    "from sklearn.linear_model import LogisticRegression \n",
    "from sklearn.feature_selection import SelectFromModel\n",
    "from sklearn.preprocessing import StandardScaler\n",
    "\n",
    "scaler = StandardScaler()\n",
    "scaler.fit(x_train)\n",
    "\n",
    "sfm = SelectFromModel(\n",
    "    LogisticRegression(C=0.5, penalty='l1', solver='liblinear', random_state=10)\n",
    ")\n",
    "sfm.fit(scaler.transform(x_train), y_train)"
   ]
  },
  {
   "cell_type": "code",
   "execution_count": 30,
   "id": "f345d790",
   "metadata": {
    "execution": {
     "iopub.execute_input": "2024-05-13T17:08:52.584595Z",
     "iopub.status.busy": "2024-05-13T17:08:52.583587Z",
     "iopub.status.idle": "2024-05-13T17:08:52.592689Z",
     "shell.execute_reply": "2024-05-13T17:08:52.591631Z"
    },
    "papermill": {
     "duration": 0.027548,
     "end_time": "2024-05-13T17:08:52.595143",
     "exception": false,
     "start_time": "2024-05-13T17:08:52.567595",
     "status": "completed"
    },
    "tags": []
   },
   "outputs": [
    {
     "name": "stdout",
     "output_type": "stream",
     "text": [
      "number of selected features:  673\n",
      "P_2_mean, P_2_std, D_39_mean, D_39_min, D_39_first, D_39_last, B_1_mean, B_1_std, B_2_mean, B_2_std, B_2_max, B_2_first, R_1_mean, R_1_min, R_1_first, R_1_last, S_3_mean, S_3_std, S_3_first, D_41_mean, D_41_std, D_41_min, D_41_first, B_3_mean, B_3_std, D_43_mean, D_43_std, D_43_first, D_43_last, D_44_mean, D_44_std, B_4_mean, B_4_std, D_45_mean, D_45_std, B_5_mean, B_5_min, B_5_first, B_5_last, R_2_mean, R_2_std, R_2_min, R_2_first, R_2_last, D_46_mean, D_46_std, D_46_min, D_46_first, D_46_last, D_47_mean, D_47_std, D_48_mean, D_48_std, D_49_mean, D_49_std, D_49_min, B_6_mean, B_6_min, B_6_last, B_7_mean, B_7_std, B_8_mean, B_8_std, D_50_mean, D_50_std, D_50_min, D_50_first, D_50_last, D_51_mean, D_51_std, B_9_mean, B_9_std, R_3_mean, R_3_std, R_3_min, R_3_first, R_3_last, D_52_mean, D_52_std, P_3_mean, P_3_std, P_3_min, P_3_max, P_3_first, P_3_last, B_10_mean, B_10_min, B_10_first, B_10_last, S_5_mean, S_5_min, S_5_first, S_5_last, S_6_mean, S_6_std, S_6_max, S_6_first, D_54_mean, D_54_std, D_54_min, D_54_max, D_54_first, R_4_min, R_4_first, R_4_last, B_12_mean, B_12_std, S_8_mean, S_8_std, D_55_std, D_56_mean, D_56_std, R_5_min, R_5_last, D_58_mean, D_58_std, S_9_mean, S_9_min, S_9_first, S_9_last, B_14_mean, D_59_mean, D_59_std, D_59_min, D_60_mean, D_60_std, D_61_std, S_11_mean, S_11_std, S_11_min, S_11_max, S_11_first, S_11_last, D_62_mean, D_62_std, D_65_mean, D_65_min, D_65_first, D_65_last, B_16_mean, B_16_std, B_17_mean, B_17_std, B_17_min, B_17_max, B_17_first, B_17_last, B_18_std, B_19_std, B_20_std, S_12_mean, S_12_min, S_12_first, S_12_last, R_6_mean, R_6_min, R_6_first, R_6_last, S_13_mean, B_21_mean, B_21_min, B_21_first, B_21_last, D_69_mean, D_69_min, D_69_last, B_22_std, B_22_min, B_22_first, D_70_mean, D_70_std, D_70_min, D_70_first, D_70_last, D_71_mean, D_71_std, D_71_min, D_72_mean, D_72_std, D_72_min, D_72_first, S_15_mean, S_15_std, S_15_min, S_15_max, S_15_first, P_4_mean, P_4_std, B_24_mean, B_24_min, B_24_first, R_7_mean, R_7_min, R_7_first, R_7_last, D_77_std, B_25_mean, B_25_std, B_26_mean, B_26_min, B_26_first, B_26_last, D_78_mean, D_78_std, D_78_min, D_78_first, D_79_mean, D_79_std, D_79_min, R_8_min, R_8_first, R_9_mean, R_9_std, S_16_mean, S_16_min, S_16_first, S_16_last, D_80_mean, D_80_std, D_80_min, R_10_min, R_10_first, R_10_last, R_11_mean, R_11_min, R_11_first, R_11_last, B_27_mean, B_27_std, B_27_min, B_27_first, D_81_mean, D_81_std, D_81_min, D_81_first, D_82_mean, D_82_std, S_17_mean, S_17_min, S_17_first, S_17_last, R_12_mean, R_12_std, R_12_max, R_12_first, B_28_mean, R_13_min, R_13_first, R_13_last, D_83_mean, D_83_std, D_83_min, R_14_mean, R_14_min, R_14_first, R_14_last, R_15_mean, R_15_min, R_15_first, R_15_last, D_84_first, R_16_mean, R_16_min, R_16_first, R_16_last, S_18_mean, S_18_std, S_18_min, S_18_last, D_86_mean, D_86_std, D_87_mean, D_87_std, D_87_min, D_87_first, R_17_min, R_17_first, R_17_last, R_18_mean, R_18_first, R_18_last, B_31_mean, B_31_std, B_31_max, B_31_first, B_31_last, S_19_mean, S_19_std, S_19_min, S_19_last, R_19_mean, R_19_std, B_32_mean, B_32_min, B_32_first, B_32_last, S_20_mean, S_20_std, S_20_min, S_20_first, R_20_min, R_20_first, R_20_last, R_21_std, R_21_min, R_21_first, R_21_last, D_89_mean, D_89_last, R_22_mean, R_22_min, R_22_first, R_23_mean, R_23_last, D_91_mean, D_91_std, D_91_min, D_92_mean, D_92_std, D_92_min, D_93_mean, D_93_std, D_93_min, D_94_mean, D_94_std, D_94_min, R_24_min, R_24_first, R_24_last, R_25_mean, R_25_min, R_25_first, R_25_last, D_96_mean, D_96_std, D_96_min, D_96_last, S_22_mean, S_22_std, S_22_min, S_22_max, S_22_first, S_22_last, S_23_mean, S_23_std, S_23_min, S_23_last, S_25_mean, S_25_std, S_25_max, S_25_last, S_26_mean, D_102_mean, D_102_std, D_103_mean, D_103_std, D_103_min, D_105_mean, D_105_std, D_106_mean, D_106_min, D_106_first, B_36_mean, B_36_std, B_36_min, R_26_mean, R_26_std, R_27_mean, R_27_std, D_108_mean, D_108_min, D_108_first, D_108_last, D_109_mean, D_109_std, D_109_min, D_112_mean, D_112_std, D_112_max, D_112_first, D_112_last, B_40_mean, B_40_min, B_40_first, S_27_mean, S_27_std, S_27_min, S_27_first, S_27_last, D_113_mean, D_113_std, D_115_mean, D_115_std, D_118_std, D_121_mean, D_121_std, D_122_mean, D_122_std, D_123_mean, D_123_std, D_123_max, D_123_last, D_124_mean, D_124_std, D_125_mean, D_125_std, D_125_max, D_127_mean, D_127_std, D_127_min, D_128_mean, D_128_std, D_129_mean, D_129_std, D_129_min, B_41_mean, B_41_min, B_41_first, D_130_mean, D_130_std, D_131_std, D_133_mean, D_133_std, D_133_min, D_133_first, R_28_mean, R_28_std, R_28_min, R_28_first, R_28_last, D_135_mean, D_135_min, D_135_first, D_135_last, D_139_mean, D_139_std, D_139_min, D_140_mean, D_140_std, D_140_min, D_140_last, D_144_mean, D_144_std, D_145_mean, D_145_std, B_1_last_lag_sub, B_2_last_lag_sub, R_1_last_lag_sub, S_3_last_lag_sub, B_3_last_lag_sub, D_44_last_lag_sub, B_4_last_lag_sub, D_45_last_lag_sub, D_46_last_lag_sub, D_47_last_lag_sub, D_48_last_lag_sub, D_49_last_lag_sub, B_6_last_lag_sub, B_7_last_lag_sub, B_8_last_lag_sub, D_51_last_lag_sub, B_9_last_lag_sub, R_3_last_lag_sub, D_52_last_lag_sub, S_5_last_lag_sub, S_6_last_lag_sub, B_12_last_lag_sub, S_8_last_lag_sub, D_55_last_lag_sub, D_56_last_lag_sub, B_13_last_lag_sub, D_58_last_lag_sub, B_14_last_lag_sub, D_60_last_lag_sub, D_61_last_lag_sub, S_11_last_lag_sub, D_62_last_lag_sub, B_16_last_lag_sub, B_18_last_lag_sub, B_19_last_lag_sub, B_20_last_lag_sub, S_13_last_lag_sub, D_69_last_lag_sub, B_22_last_lag_sub, D_70_last_lag_sub, D_71_last_lag_sub, D_72_last_lag_sub, S_15_last_lag_sub, P_4_last_lag_sub, D_77_last_lag_sub, B_25_last_lag_sub, D_78_last_lag_sub, D_79_last_lag_sub, R_9_last_lag_sub, D_80_last_lag_sub, B_27_last_lag_sub, D_81_last_lag_sub, D_82_last_lag_sub, R_12_last_lag_sub, B_28_last_lag_sub, D_83_last_lag_sub, R_16_last_lag_sub, S_18_last_lag_sub, D_86_last_lag_sub, S_19_last_lag_sub, R_19_last_lag_sub, R_21_last_lag_sub, D_89_last_lag_sub, R_22_last_lag_sub, R_23_last_lag_sub, D_91_last_lag_sub, D_92_last_lag_sub, D_93_last_lag_sub, D_94_last_lag_sub, D_96_last_lag_sub, S_23_last_lag_sub, S_25_last_lag_sub, S_26_last_lag_sub, D_102_last_lag_sub, D_103_last_lag_sub, D_104_last_lag_sub, D_105_last_lag_sub, R_26_last_lag_sub, R_27_last_lag_sub, D_108_last_lag_sub, D_109_last_lag_sub, D_112_last_lag_sub, B_40_last_lag_sub, S_27_last_lag_sub, D_113_last_lag_sub, D_115_last_lag_sub, D_118_last_lag_sub, D_121_last_lag_sub, D_122_last_lag_sub, D_123_last_lag_sub, D_125_last_lag_sub, D_127_last_lag_sub, D_129_last_lag_sub, B_41_last_lag_sub, D_130_last_lag_sub, D_131_last_lag_sub, D_133_last_lag_sub, R_28_last_lag_sub, D_140_last_lag_sub, D_141_last_lag_sub, D_144_last_lag_sub, D_145_last_lag_sub, B_30_0_count, B_30_0_first, B_30_0_last, B_30_1_last, B_30_2_first, B_30_2_last, B_30_2_nunique, B_30_3_first, B_38_0_first, B_38_0_last, B_38_0_nunique, B_38_1_first, B_38_1_last, B_38_1_nunique, B_38_2_first, B_38_2_last, B_38_2_nunique, B_38_3_first, B_38_3_last, B_38_3_nunique, B_38_4_first, B_38_4_last, B_38_4_nunique, B_38_5_first, B_38_5_last, B_38_5_nunique, B_38_6_first, B_38_6_last, B_38_6_nunique, D_114_0_first, D_114_0_last, D_114_0_nunique, D_114_1_first, D_114_1_last, D_114_1_nunique, D_114_2_last, D_116_0_last, D_116_1_first, D_116_1_last, D_117_0_first, D_117_0_last, D_117_0_nunique, D_117_1_first, D_117_1_last, D_117_1_nunique, D_117_2_first, D_117_2_last, D_117_2_nunique, D_117_3_first, D_117_3_last, D_117_3_nunique, D_117_4_first, D_117_4_last, D_117_4_nunique, D_117_5_first, D_117_5_last, D_117_5_nunique, D_117_6_first, D_117_6_last, D_117_6_nunique, D_120_0_first, D_120_0_last, D_120_0_nunique, D_120_1_first, D_120_1_last, D_120_1_nunique, D_126_0_first, D_126_0_nunique, D_126_1_first, D_126_1_last, D_126_1_nunique, D_126_2_first, D_126_2_last, D_126_2_nunique, D_63_0_nunique, D_63_1_first, D_63_1_last, D_63_1_nunique, D_63_2_first, D_63_2_last, D_63_2_nunique, D_63_3_first, D_63_3_nunique, D_63_4_first, D_63_4_last, D_63_4_nunique, D_63_5_first, D_63_5_last, D_63_5_nunique, D_64_0_first, D_64_0_last, D_64_0_nunique, D_64_1_first, D_64_1_nunique, D_64_2_first, D_64_2_last, D_64_2_nunique, D_64_3_first, D_64_3_last, D_64_3_nunique, D_64_4_last, D_66_0_first, D_66_0_nunique, D_66_1_first, D_66_1_nunique, D_66_2_first, D_66_2_nunique, D_68_0_first, D_68_1_first, D_68_1_last, D_68_1_nunique, D_68_2_first, D_68_2_last, D_68_2_nunique, D_68_3_first, D_68_3_last, D_68_3_nunique, D_68_4_first, D_68_4_last, D_68_4_nunique, D_68_5_first, D_68_5_last, D_68_5_nunique, D_68_6_first, D_68_6_last, D_68_6_nunique\n"
     ]
    }
   ],
   "source": [
    "selected_feat = x_train.columns[(sfm.get_support())]\n",
    "print(\"number of selected features: \", len(selected_feat))\n",
    "print(', '.join(selected_feat))"
   ]
  },
  {
   "cell_type": "code",
   "execution_count": 31,
   "id": "e9b064fa",
   "metadata": {
    "execution": {
     "iopub.execute_input": "2024-05-13T17:08:52.625549Z",
     "iopub.status.busy": "2024-05-13T17:08:52.624581Z",
     "iopub.status.idle": "2024-05-13T17:08:52.631380Z",
     "shell.execute_reply": "2024-05-13T17:08:52.630203Z"
    },
    "papermill": {
     "duration": 0.024172,
     "end_time": "2024-05-13T17:08:52.633807",
     "exception": false,
     "start_time": "2024-05-13T17:08:52.609635",
     "status": "completed"
    },
    "tags": []
   },
   "outputs": [
    {
     "name": "stdout",
     "output_type": "stream",
     "text": [
      "[\"P_2_mean\", \"P_2_std\", \"D_39_mean\", \"D_39_min\", \"D_39_first\", \"D_39_last\", \"B_1_mean\", \"B_1_std\", \"B_2_mean\", \"B_2_std\", \"B_2_max\", \"B_2_first\", \"R_1_mean\", \"R_1_min\", \"R_1_first\", \"R_1_last\", \"S_3_mean\", \"S_3_std\", \"S_3_first\", \"D_41_mean\", \"D_41_std\", \"D_41_min\", \"D_41_first\", \"B_3_mean\", \"B_3_std\", \"D_43_mean\", \"D_43_std\", \"D_43_first\", \"D_43_last\", \"D_44_mean\", \"D_44_std\", \"B_4_mean\", \"B_4_std\", \"D_45_mean\", \"D_45_std\", \"B_5_mean\", \"B_5_min\", \"B_5_first\", \"B_5_last\", \"R_2_mean\", \"R_2_std\", \"R_2_min\", \"R_2_first\", \"R_2_last\", \"D_46_mean\", \"D_46_std\", \"D_46_min\", \"D_46_first\", \"D_46_last\", \"D_47_mean\", \"D_47_std\", \"D_48_mean\", \"D_48_std\", \"D_49_mean\", \"D_49_std\", \"D_49_min\", \"B_6_mean\", \"B_6_min\", \"B_6_last\", \"B_7_mean\", \"B_7_std\", \"B_8_mean\", \"B_8_std\", \"D_50_mean\", \"D_50_std\", \"D_50_min\", \"D_50_first\", \"D_50_last\", \"D_51_mean\", \"D_51_std\", \"B_9_mean\", \"B_9_std\", \"R_3_mean\", \"R_3_std\", \"R_3_min\", \"R_3_first\", \"R_3_last\", \"D_52_mean\", \"D_52_std\", \"P_3_mean\", \"P_3_std\", \"P_3_min\", \"P_3_max\", \"P_3_first\", \"P_3_last\", \"B_10_mean\", \"B_10_min\", \"B_10_first\", \"B_10_last\", \"S_5_mean\", \"S_5_min\", \"S_5_first\", \"S_5_last\", \"S_6_mean\", \"S_6_std\", \"S_6_max\", \"S_6_first\", \"D_54_mean\", \"D_54_std\", \"D_54_min\", \"D_54_max\", \"D_54_first\", \"R_4_min\", \"R_4_first\", \"R_4_last\", \"B_12_mean\", \"B_12_std\", \"S_8_mean\", \"S_8_std\", \"D_55_std\", \"D_56_mean\", \"D_56_std\", \"R_5_min\", \"R_5_last\", \"D_58_mean\", \"D_58_std\", \"S_9_mean\", \"S_9_min\", \"S_9_first\", \"S_9_last\", \"B_14_mean\", \"D_59_mean\", \"D_59_std\", \"D_59_min\", \"D_60_mean\", \"D_60_std\", \"D_61_std\", \"S_11_mean\", \"S_11_std\", \"S_11_min\", \"S_11_max\", \"S_11_first\", \"S_11_last\", \"D_62_mean\", \"D_62_std\", \"D_65_mean\", \"D_65_min\", \"D_65_first\", \"D_65_last\", \"B_16_mean\", \"B_16_std\", \"B_17_mean\", \"B_17_std\", \"B_17_min\", \"B_17_max\", \"B_17_first\", \"B_17_last\", \"B_18_std\", \"B_19_std\", \"B_20_std\", \"S_12_mean\", \"S_12_min\", \"S_12_first\", \"S_12_last\", \"R_6_mean\", \"R_6_min\", \"R_6_first\", \"R_6_last\", \"S_13_mean\", \"B_21_mean\", \"B_21_min\", \"B_21_first\", \"B_21_last\", \"D_69_mean\", \"D_69_min\", \"D_69_last\", \"B_22_std\", \"B_22_min\", \"B_22_first\", \"D_70_mean\", \"D_70_std\", \"D_70_min\", \"D_70_first\", \"D_70_last\", \"D_71_mean\", \"D_71_std\", \"D_71_min\", \"D_72_mean\", \"D_72_std\", \"D_72_min\", \"D_72_first\", \"S_15_mean\", \"S_15_std\", \"S_15_min\", \"S_15_max\", \"S_15_first\", \"P_4_mean\", \"P_4_std\", \"B_24_mean\", \"B_24_min\", \"B_24_first\", \"R_7_mean\", \"R_7_min\", \"R_7_first\", \"R_7_last\", \"D_77_std\", \"B_25_mean\", \"B_25_std\", \"B_26_mean\", \"B_26_min\", \"B_26_first\", \"B_26_last\", \"D_78_mean\", \"D_78_std\", \"D_78_min\", \"D_78_first\", \"D_79_mean\", \"D_79_std\", \"D_79_min\", \"R_8_min\", \"R_8_first\", \"R_9_mean\", \"R_9_std\", \"S_16_mean\", \"S_16_min\", \"S_16_first\", \"S_16_last\", \"D_80_mean\", \"D_80_std\", \"D_80_min\", \"R_10_min\", \"R_10_first\", \"R_10_last\", \"R_11_mean\", \"R_11_min\", \"R_11_first\", \"R_11_last\", \"B_27_mean\", \"B_27_std\", \"B_27_min\", \"B_27_first\", \"D_81_mean\", \"D_81_std\", \"D_81_min\", \"D_81_first\", \"D_82_mean\", \"D_82_std\", \"S_17_mean\", \"S_17_min\", \"S_17_first\", \"S_17_last\", \"R_12_mean\", \"R_12_std\", \"R_12_max\", \"R_12_first\", \"B_28_mean\", \"R_13_min\", \"R_13_first\", \"R_13_last\", \"D_83_mean\", \"D_83_std\", \"D_83_min\", \"R_14_mean\", \"R_14_min\", \"R_14_first\", \"R_14_last\", \"R_15_mean\", \"R_15_min\", \"R_15_first\", \"R_15_last\", \"D_84_first\", \"R_16_mean\", \"R_16_min\", \"R_16_first\", \"R_16_last\", \"S_18_mean\", \"S_18_std\", \"S_18_min\", \"S_18_last\", \"D_86_mean\", \"D_86_std\", \"D_87_mean\", \"D_87_std\", \"D_87_min\", \"D_87_first\", \"R_17_min\", \"R_17_first\", \"R_17_last\", \"R_18_mean\", \"R_18_first\", \"R_18_last\", \"B_31_mean\", \"B_31_std\", \"B_31_max\", \"B_31_first\", \"B_31_last\", \"S_19_mean\", \"S_19_std\", \"S_19_min\", \"S_19_last\", \"R_19_mean\", \"R_19_std\", \"B_32_mean\", \"B_32_min\", \"B_32_first\", \"B_32_last\", \"S_20_mean\", \"S_20_std\", \"S_20_min\", \"S_20_first\", \"R_20_min\", \"R_20_first\", \"R_20_last\", \"R_21_std\", \"R_21_min\", \"R_21_first\", \"R_21_last\", \"D_89_mean\", \"D_89_last\", \"R_22_mean\", \"R_22_min\", \"R_22_first\", \"R_23_mean\", \"R_23_last\", \"D_91_mean\", \"D_91_std\", \"D_91_min\", \"D_92_mean\", \"D_92_std\", \"D_92_min\", \"D_93_mean\", \"D_93_std\", \"D_93_min\", \"D_94_mean\", \"D_94_std\", \"D_94_min\", \"R_24_min\", \"R_24_first\", \"R_24_last\", \"R_25_mean\", \"R_25_min\", \"R_25_first\", \"R_25_last\", \"D_96_mean\", \"D_96_std\", \"D_96_min\", \"D_96_last\", \"S_22_mean\", \"S_22_std\", \"S_22_min\", \"S_22_max\", \"S_22_first\", \"S_22_last\", \"S_23_mean\", \"S_23_std\", \"S_23_min\", \"S_23_last\", \"S_25_mean\", \"S_25_std\", \"S_25_max\", \"S_25_last\", \"S_26_mean\", \"D_102_mean\", \"D_102_std\", \"D_103_mean\", \"D_103_std\", \"D_103_min\", \"D_105_mean\", \"D_105_std\", \"D_106_mean\", \"D_106_min\", \"D_106_first\", \"B_36_mean\", \"B_36_std\", \"B_36_min\", \"R_26_mean\", \"R_26_std\", \"R_27_mean\", \"R_27_std\", \"D_108_mean\", \"D_108_min\", \"D_108_first\", \"D_108_last\", \"D_109_mean\", \"D_109_std\", \"D_109_min\", \"D_112_mean\", \"D_112_std\", \"D_112_max\", \"D_112_first\", \"D_112_last\", \"B_40_mean\", \"B_40_min\", \"B_40_first\", \"S_27_mean\", \"S_27_std\", \"S_27_min\", \"S_27_first\", \"S_27_last\", \"D_113_mean\", \"D_113_std\", \"D_115_mean\", \"D_115_std\", \"D_118_std\", \"D_121_mean\", \"D_121_std\", \"D_122_mean\", \"D_122_std\", \"D_123_mean\", \"D_123_std\", \"D_123_max\", \"D_123_last\", \"D_124_mean\", \"D_124_std\", \"D_125_mean\", \"D_125_std\", \"D_125_max\", \"D_127_mean\", \"D_127_std\", \"D_127_min\", \"D_128_mean\", \"D_128_std\", \"D_129_mean\", \"D_129_std\", \"D_129_min\", \"B_41_mean\", \"B_41_min\", \"B_41_first\", \"D_130_mean\", \"D_130_std\", \"D_131_std\", \"D_133_mean\", \"D_133_std\", \"D_133_min\", \"D_133_first\", \"R_28_mean\", \"R_28_std\", \"R_28_min\", \"R_28_first\", \"R_28_last\", \"D_135_mean\", \"D_135_min\", \"D_135_first\", \"D_135_last\", \"D_139_mean\", \"D_139_std\", \"D_139_min\", \"D_140_mean\", \"D_140_std\", \"D_140_min\", \"D_140_last\", \"D_144_mean\", \"D_144_std\", \"D_145_mean\", \"D_145_std\", \"B_1_last_lag_sub\", \"B_2_last_lag_sub\", \"R_1_last_lag_sub\", \"S_3_last_lag_sub\", \"B_3_last_lag_sub\", \"D_44_last_lag_sub\", \"B_4_last_lag_sub\", \"D_45_last_lag_sub\", \"D_46_last_lag_sub\", \"D_47_last_lag_sub\", \"D_48_last_lag_sub\", \"D_49_last_lag_sub\", \"B_6_last_lag_sub\", \"B_7_last_lag_sub\", \"B_8_last_lag_sub\", \"D_51_last_lag_sub\", \"B_9_last_lag_sub\", \"R_3_last_lag_sub\", \"D_52_last_lag_sub\", \"S_5_last_lag_sub\", \"S_6_last_lag_sub\", \"B_12_last_lag_sub\", \"S_8_last_lag_sub\", \"D_55_last_lag_sub\", \"D_56_last_lag_sub\", \"B_13_last_lag_sub\", \"D_58_last_lag_sub\", \"B_14_last_lag_sub\", \"D_60_last_lag_sub\", \"D_61_last_lag_sub\", \"S_11_last_lag_sub\", \"D_62_last_lag_sub\", \"B_16_last_lag_sub\", \"B_18_last_lag_sub\", \"B_19_last_lag_sub\", \"B_20_last_lag_sub\", \"S_13_last_lag_sub\", \"D_69_last_lag_sub\", \"B_22_last_lag_sub\", \"D_70_last_lag_sub\", \"D_71_last_lag_sub\", \"D_72_last_lag_sub\", \"S_15_last_lag_sub\", \"P_4_last_lag_sub\", \"D_77_last_lag_sub\", \"B_25_last_lag_sub\", \"D_78_last_lag_sub\", \"D_79_last_lag_sub\", \"R_9_last_lag_sub\", \"D_80_last_lag_sub\", \"B_27_last_lag_sub\", \"D_81_last_lag_sub\", \"D_82_last_lag_sub\", \"R_12_last_lag_sub\", \"B_28_last_lag_sub\", \"D_83_last_lag_sub\", \"R_16_last_lag_sub\", \"S_18_last_lag_sub\", \"D_86_last_lag_sub\", \"S_19_last_lag_sub\", \"R_19_last_lag_sub\", \"R_21_last_lag_sub\", \"D_89_last_lag_sub\", \"R_22_last_lag_sub\", \"R_23_last_lag_sub\", \"D_91_last_lag_sub\", \"D_92_last_lag_sub\", \"D_93_last_lag_sub\", \"D_94_last_lag_sub\", \"D_96_last_lag_sub\", \"S_23_last_lag_sub\", \"S_25_last_lag_sub\", \"S_26_last_lag_sub\", \"D_102_last_lag_sub\", \"D_103_last_lag_sub\", \"D_104_last_lag_sub\", \"D_105_last_lag_sub\", \"R_26_last_lag_sub\", \"R_27_last_lag_sub\", \"D_108_last_lag_sub\", \"D_109_last_lag_sub\", \"D_112_last_lag_sub\", \"B_40_last_lag_sub\", \"S_27_last_lag_sub\", \"D_113_last_lag_sub\", \"D_115_last_lag_sub\", \"D_118_last_lag_sub\", \"D_121_last_lag_sub\", \"D_122_last_lag_sub\", \"D_123_last_lag_sub\", \"D_125_last_lag_sub\", \"D_127_last_lag_sub\", \"D_129_last_lag_sub\", \"B_41_last_lag_sub\", \"D_130_last_lag_sub\", \"D_131_last_lag_sub\", \"D_133_last_lag_sub\", \"R_28_last_lag_sub\", \"D_140_last_lag_sub\", \"D_141_last_lag_sub\", \"D_144_last_lag_sub\", \"D_145_last_lag_sub\", \"B_30_0_count\", \"B_30_0_first\", \"B_30_0_last\", \"B_30_1_last\", \"B_30_2_first\", \"B_30_2_last\", \"B_30_2_nunique\", \"B_30_3_first\", \"B_38_0_first\", \"B_38_0_last\", \"B_38_0_nunique\", \"B_38_1_first\", \"B_38_1_last\", \"B_38_1_nunique\", \"B_38_2_first\", \"B_38_2_last\", \"B_38_2_nunique\", \"B_38_3_first\", \"B_38_3_last\", \"B_38_3_nunique\", \"B_38_4_first\", \"B_38_4_last\", \"B_38_4_nunique\", \"B_38_5_first\", \"B_38_5_last\", \"B_38_5_nunique\", \"B_38_6_first\", \"B_38_6_last\", \"B_38_6_nunique\", \"D_114_0_first\", \"D_114_0_last\", \"D_114_0_nunique\", \"D_114_1_first\", \"D_114_1_last\", \"D_114_1_nunique\", \"D_114_2_last\", \"D_116_0_last\", \"D_116_1_first\", \"D_116_1_last\", \"D_117_0_first\", \"D_117_0_last\", \"D_117_0_nunique\", \"D_117_1_first\", \"D_117_1_last\", \"D_117_1_nunique\", \"D_117_2_first\", \"D_117_2_last\", \"D_117_2_nunique\", \"D_117_3_first\", \"D_117_3_last\", \"D_117_3_nunique\", \"D_117_4_first\", \"D_117_4_last\", \"D_117_4_nunique\", \"D_117_5_first\", \"D_117_5_last\", \"D_117_5_nunique\", \"D_117_6_first\", \"D_117_6_last\", \"D_117_6_nunique\", \"D_120_0_first\", \"D_120_0_last\", \"D_120_0_nunique\", \"D_120_1_first\", \"D_120_1_last\", \"D_120_1_nunique\", \"D_126_0_first\", \"D_126_0_nunique\", \"D_126_1_first\", \"D_126_1_last\", \"D_126_1_nunique\", \"D_126_2_first\", \"D_126_2_last\", \"D_126_2_nunique\", \"D_63_0_nunique\", \"D_63_1_first\", \"D_63_1_last\", \"D_63_1_nunique\", \"D_63_2_first\", \"D_63_2_last\", \"D_63_2_nunique\", \"D_63_3_first\", \"D_63_3_nunique\", \"D_63_4_first\", \"D_63_4_last\", \"D_63_4_nunique\", \"D_63_5_first\", \"D_63_5_last\", \"D_63_5_nunique\", \"D_64_0_first\", \"D_64_0_last\", \"D_64_0_nunique\", \"D_64_1_first\", \"D_64_1_nunique\", \"D_64_2_first\", \"D_64_2_last\", \"D_64_2_nunique\", \"D_64_3_first\", \"D_64_3_last\", \"D_64_3_nunique\", \"D_64_4_last\", \"D_66_0_first\", \"D_66_0_nunique\", \"D_66_1_first\", \"D_66_1_nunique\", \"D_66_2_first\", \"D_66_2_nunique\", \"D_68_0_first\", \"D_68_1_first\", \"D_68_1_last\", \"D_68_1_nunique\", \"D_68_2_first\", \"D_68_2_last\", \"D_68_2_nunique\", \"D_68_3_first\", \"D_68_3_last\", \"D_68_3_nunique\", \"D_68_4_first\", \"D_68_4_last\", \"D_68_4_nunique\", \"D_68_5_first\", \"D_68_5_last\", \"D_68_5_nunique\", \"D_68_6_first\", \"D_68_6_last\", \"D_68_6_nunique\"]\n"
     ]
    }
   ],
   "source": [
    "print('[' + ', '.join(['\"' + feat + '\"' for feat in selected_feat]) + ']')"
   ]
  },
  {
   "cell_type": "markdown",
   "id": "09d61f49",
   "metadata": {
    "papermill": {
     "duration": 0.013429,
     "end_time": "2024-05-13T17:08:52.661099",
     "exception": false,
     "start_time": "2024-05-13T17:08:52.647670",
     "status": "completed"
    },
    "tags": []
   },
   "source": [
    "**Training and Testing**"
   ]
  },
  {
   "cell_type": "code",
   "execution_count": 32,
   "id": "b07e66ab",
   "metadata": {
    "execution": {
     "iopub.execute_input": "2024-05-13T17:08:52.690575Z",
     "iopub.status.busy": "2024-05-13T17:08:52.690153Z",
     "iopub.status.idle": "2024-05-13T17:08:52.703498Z",
     "shell.execute_reply": "2024-05-13T17:08:52.702329Z"
    },
    "papermill": {
     "duration": 0.030794,
     "end_time": "2024-05-13T17:08:52.705768",
     "exception": false,
     "start_time": "2024-05-13T17:08:52.674974",
     "status": "completed"
    },
    "tags": []
   },
   "outputs": [],
   "source": [
    "def amex_metric(y_true: pd.DataFrame, y_pred: pd.DataFrame) -> float:\n",
    "\n",
    "    def top_four_percent_captured(y_true: pd.DataFrame, y_pred: pd.DataFrame) -> float:\n",
    "        df = (pd.concat([y_true, y_pred], axis='columns')\n",
    "              .sort_values('prediction', ascending=False))\n",
    "        df['weight'] = df['target'].apply(lambda x: 20 if x==0 else 1)\n",
    "        four_pct_cutoff = int(0.04 * df['weight'].sum())\n",
    "        df['weight_cumsum'] = df['weight'].cumsum()\n",
    "        df_cutoff = df.loc[df['weight_cumsum'] <= four_pct_cutoff]\n",
    "        return (df_cutoff['target'] == 1).sum() / (df['target'] == 1).sum()\n",
    "        \n",
    "    def weighted_gini(y_true: pd.DataFrame, y_pred: pd.DataFrame) -> float:\n",
    "        df = (pd.concat([y_true, y_pred], axis='columns')\n",
    "              .sort_values('prediction', ascending=False))\n",
    "        df['weight'] = df['target'].apply(lambda x: 20 if x==0 else 1)\n",
    "        df['random'] = (df['weight'] / df['weight'].sum()).cumsum()\n",
    "        total_pos = (df['target'] * df['weight']).sum()\n",
    "        df['cum_pos_found'] = (df['target'] * df['weight']).cumsum()\n",
    "        df['lorentz'] = df['cum_pos_found'] / total_pos\n",
    "        df['gini'] = (df['lorentz'] - df['random']) * df['weight']\n",
    "        return df['gini'].sum()\n",
    "\n",
    "    def normalized_weighted_gini(y_true: pd.DataFrame, y_pred: pd.DataFrame) -> float:\n",
    "        y_true_pred = y_true.rename(columns={'target': 'prediction'})\n",
    "        return weighted_gini(y_true, y_pred) / weighted_gini(y_true, y_true_pred)\n",
    "\n",
    "    g = normalized_weighted_gini(y_true, y_pred)\n",
    "    d = top_four_percent_captured(y_true, y_pred)\n",
    "\n",
    "    return 0.5 * (g + d)"
   ]
  },
  {
   "cell_type": "markdown",
   "id": "f5ea997e",
   "metadata": {
    "papermill": {
     "duration": 0.013885,
     "end_time": "2024-05-13T17:08:52.733893",
     "exception": false,
     "start_time": "2024-05-13T17:08:52.720008",
     "status": "completed"
    },
    "tags": []
   },
   "source": [
    "**Random Forest**"
   ]
  },
  {
   "cell_type": "code",
   "execution_count": 33,
   "id": "69395e6b",
   "metadata": {
    "execution": {
     "iopub.execute_input": "2024-05-13T17:08:52.764204Z",
     "iopub.status.busy": "2024-05-13T17:08:52.763711Z",
     "iopub.status.idle": "2024-05-13T17:08:52.804052Z",
     "shell.execute_reply": "2024-05-13T17:08:52.802799Z"
    },
    "papermill": {
     "duration": 0.058113,
     "end_time": "2024-05-13T17:08:52.806339",
     "exception": false,
     "start_time": "2024-05-13T17:08:52.748226",
     "status": "completed"
    },
    "tags": []
   },
   "outputs": [
    {
     "name": "stdout",
     "output_type": "stream",
     "text": [
      "<class 'pandas.core.frame.DataFrame'>\n",
      "Index: 317655 entries, 308385 to 123348\n",
      "Columns: 720 entries, P_2_mean to D_68_6_nunique\n",
      "dtypes: float32(284), float64(115), int16(14), int64(133), int8(174)\n",
      "memory usage: 1008.8 MB\n"
     ]
    }
   ],
   "source": [
    "x_train.info()"
   ]
  },
  {
   "cell_type": "code",
   "execution_count": 34,
   "id": "568d9ee1",
   "metadata": {
    "execution": {
     "iopub.execute_input": "2024-05-13T17:08:52.837151Z",
     "iopub.status.busy": "2024-05-13T17:08:52.836699Z",
     "iopub.status.idle": "2024-05-13T17:31:40.757116Z",
     "shell.execute_reply": "2024-05-13T17:31:40.755811Z"
    },
    "papermill": {
     "duration": 1367.939158,
     "end_time": "2024-05-13T17:31:40.759989",
     "exception": false,
     "start_time": "2024-05-13T17:08:52.820831",
     "status": "completed"
    },
    "tags": []
   },
   "outputs": [
    {
     "name": "stdout",
     "output_type": "stream",
     "text": [
      "Classification Report:\n",
      "              precision    recall  f1-score   support\n",
      "\n",
      "           0       0.93      0.93      0.93    101094\n",
      "           1       0.80      0.78      0.79     35044\n",
      "\n",
      "    accuracy                           0.89    136138\n",
      "   macro avg       0.86      0.86      0.86    136138\n",
      "weighted avg       0.89      0.89      0.89    136138\n",
      "\n"
     ]
    },
    {
     "data": {
      "text/plain": [
       "<Axes: >"
      ]
     },
     "execution_count": 34,
     "metadata": {},
     "output_type": "execute_result"
    },
    {
     "data": {
      "image/png": "[encoded data removed]",
      "text/plain": [
       "<Figure size 640x480 with 2 Axes>"
      ]
     },
     "metadata": {},
     "output_type": "display_data"
    }
   ],
   "source": [
    "from sklearn.ensemble import RandomForestClassifier\n",
    "#random forest classifier with n_estimators=100 (default)\n",
    "clf_rf = RandomForestClassifier(random_state=43)      \n",
    "clr_rf = clf_rf.fit(x_train[selected_feat],y_train)\n",
    "\n",
    "y_pred = clf_rf.predict(x_test[selected_feat])\n",
    "\n",
    "print(\"Classification Report:\")\n",
    "print(classification_report(y_test, y_pred))\n",
    "                            \n",
    "cm = confusion_matrix(y_test,y_pred)\n",
    "sns.heatmap(cm,annot=True,fmt=\"d\")"
   ]
  },
  {
   "cell_type": "code",
   "execution_count": 35,
   "id": "08b451bd",
   "metadata": {
    "execution": {
     "iopub.execute_input": "2024-05-13T17:31:40.793791Z",
     "iopub.status.busy": "2024-05-13T17:31:40.793356Z",
     "iopub.status.idle": "2024-05-13T17:31:50.072545Z",
     "shell.execute_reply": "2024-05-13T17:31:50.071529Z"
    },
    "papermill": {
     "duration": 9.298481,
     "end_time": "2024-05-13T17:31:50.074822",
     "exception": false,
     "start_time": "2024-05-13T17:31:40.776341",
     "status": "completed"
    },
    "tags": []
   },
   "outputs": [
    {
     "data": {
      "text/plain": [
       "0.7588856253308365"
      ]
     },
     "execution_count": 35,
     "metadata": {},
     "output_type": "execute_result"
    }
   ],
   "source": [
    "y_pred_prob = clf_rf.predict_proba(x_test[selected_feat])[:, 1]\n",
    "pred_df = pd.DataFrame(y_pred_prob, columns=['prediction'])\n",
    "true_df = pd.DataFrame(y_test, columns=['target']).reset_index(drop=True)\n",
    "\n",
    "amex_metric(true_df, pred_df)"
   ]
  },
  {
   "cell_type": "markdown",
   "id": "b8d0b0ae",
   "metadata": {
    "papermill": {
     "duration": 0.014488,
     "end_time": "2024-05-13T17:31:50.104436",
     "exception": false,
     "start_time": "2024-05-13T17:31:50.089948",
     "status": "completed"
    },
    "tags": []
   },
   "source": [
    "**XGBoost**"
   ]
  },
  {
   "cell_type": "code",
   "execution_count": 36,
   "id": "2a6c4133",
   "metadata": {
    "execution": {
     "iopub.execute_input": "2024-05-13T17:31:50.136604Z",
     "iopub.status.busy": "2024-05-13T17:31:50.135546Z",
     "iopub.status.idle": "2024-05-13T17:33:04.867155Z",
     "shell.execute_reply": "2024-05-13T17:33:04.866084Z"
    },
    "papermill": {
     "duration": 74.750322,
     "end_time": "2024-05-13T17:33:04.869630",
     "exception": false,
     "start_time": "2024-05-13T17:31:50.119308",
     "status": "completed"
    },
    "tags": []
   },
   "outputs": [
    {
     "name": "stdout",
     "output_type": "stream",
     "text": [
      "Classification Report:\n",
      "              precision    recall  f1-score   support\n",
      "\n",
      "           0       0.93      0.93      0.93    101094\n",
      "           1       0.81      0.80      0.80     35044\n",
      "\n",
      "    accuracy                           0.90    136138\n",
      "   macro avg       0.87      0.87      0.87    136138\n",
      "weighted avg       0.90      0.90      0.90    136138\n",
      "\n"
     ]
    }
   ],
   "source": [
    "# XGBoost classifier\n",
    "import xgboost as xgb\n",
    "clf_xgb = xgb.XGBClassifier(random_state=43)\n",
    "clf_xgb.fit(x_train[selected_feat], y_train)\n",
    "\n",
    "y_pred = clf_xgb.predict(x_test[selected_feat])\n",
    "\n",
    "print(\"Classification Report:\")\n",
    "print(classification_report(y_test, y_pred))"
   ]
  },
  {
   "cell_type": "code",
   "execution_count": 37,
   "id": "3919d24b",
   "metadata": {
    "execution": {
     "iopub.execute_input": "2024-05-13T17:33:04.901946Z",
     "iopub.status.busy": "2024-05-13T17:33:04.900992Z",
     "iopub.status.idle": "2024-05-13T17:33:06.244409Z",
     "shell.execute_reply": "2024-05-13T17:33:06.243249Z"
    },
    "papermill": {
     "duration": 1.362032,
     "end_time": "2024-05-13T17:33:06.246704",
     "exception": false,
     "start_time": "2024-05-13T17:33:04.884672",
     "status": "completed"
    },
    "tags": []
   },
   "outputs": [
    {
     "data": {
      "text/plain": [
       "0.7776484445978116"
      ]
     },
     "execution_count": 37,
     "metadata": {},
     "output_type": "execute_result"
    }
   ],
   "source": [
    "y_pred_prob = clf_xgb.predict_proba(x_test[selected_feat])[:, 1]\n",
    "pred_df = pd.DataFrame(y_pred_prob, columns=['prediction'])\n",
    "true_df = pd.DataFrame(y_test, columns=['target']).reset_index(drop=True)\n",
    "\n",
    "amex_metric(true_df, pred_df)"
   ]
  },
  {
   "cell_type": "markdown",
   "id": "f4067a6d",
   "metadata": {
    "papermill": {
     "duration": 0.01475,
     "end_time": "2024-05-13T17:33:06.276756",
     "exception": false,
     "start_time": "2024-05-13T17:33:06.262006",
     "status": "completed"
    },
    "tags": []
   },
   "source": [
    "**Logistic Regression**"
   ]
  },
  {
   "cell_type": "code",
   "execution_count": 38,
   "id": "5a3c5ebb",
   "metadata": {
    "execution": {
     "iopub.execute_input": "2024-05-13T17:33:06.308455Z",
     "iopub.status.busy": "2024-05-13T17:33:06.308073Z",
     "iopub.status.idle": "2024-05-13T17:33:32.216837Z",
     "shell.execute_reply": "2024-05-13T17:33:32.215556Z"
    },
    "papermill": {
     "duration": 25.927567,
     "end_time": "2024-05-13T17:33:32.219452",
     "exception": false,
     "start_time": "2024-05-13T17:33:06.291885",
     "status": "completed"
    },
    "tags": []
   },
   "outputs": [
    {
     "name": "stderr",
     "output_type": "stream",
     "text": [
      "/opt/conda/lib/python3.10/site-packages/sklearn/linear_model/_logistic.py:458: ConvergenceWarning: lbfgs failed to converge (status=1):\n",
      "STOP: TOTAL NO. of ITERATIONS REACHED LIMIT.\n",
      "\n",
      "Increase the number of iterations (max_iter) or scale the data as shown in:\n",
      "    https://scikit-learn.org/stable/modules/preprocessing.html\n",
      "Please also refer to the documentation for alternative solver options:\n",
      "    https://scikit-learn.org/stable/modules/linear_model.html#logistic-regression\n",
      "  n_iter_i = _check_optimize_result(\n"
     ]
    },
    {
     "name": "stdout",
     "output_type": "stream",
     "text": [
      "Classification Report:\n",
      "              precision    recall  f1-score   support\n",
      "\n",
      "           0       0.90      0.93      0.91    101094\n",
      "           1       0.76      0.69      0.72     35044\n",
      "\n",
      "    accuracy                           0.87    136138\n",
      "   macro avg       0.83      0.81      0.82    136138\n",
      "weighted avg       0.86      0.87      0.86    136138\n",
      "\n"
     ]
    }
   ],
   "source": [
    "from sklearn.linear_model import LogisticRegression\n",
    "\n",
    "# Logistic Regression classifier\n",
    "clf_lr = LogisticRegression(random_state=43)\n",
    "clf_lr.fit(x_train[selected_feat], y_train)\n",
    "\n",
    "y_pred = clf_lr.predict(x_test[selected_feat])\n",
    "\n",
    "print(\"Classification Report:\")\n",
    "print(classification_report(y_test, y_pred))"
   ]
  },
  {
   "cell_type": "code",
   "execution_count": 39,
   "id": "b9a84872",
   "metadata": {
    "execution": {
     "iopub.execute_input": "2024-05-13T17:33:32.252273Z",
     "iopub.status.busy": "2024-05-13T17:33:32.251896Z",
     "iopub.status.idle": "2024-05-13T17:33:33.063545Z",
     "shell.execute_reply": "2024-05-13T17:33:33.061882Z"
    },
    "papermill": {
     "duration": 0.830607,
     "end_time": "2024-05-13T17:33:33.065816",
     "exception": false,
     "start_time": "2024-05-13T17:33:32.235209",
     "status": "completed"
    },
    "tags": []
   },
   "outputs": [
    {
     "data": {
      "text/plain": [
       "0.6730817066926756"
      ]
     },
     "execution_count": 39,
     "metadata": {},
     "output_type": "execute_result"
    }
   ],
   "source": [
    "y_pred_prob = clf_lr.predict_proba(x_test[selected_feat])[:, 1]\n",
    "pred_df = pd.DataFrame(y_pred_prob, columns=['prediction'])\n",
    "true_df = pd.DataFrame(y_test, columns=['target']).reset_index(drop=True)\n",
    "\n",
    "amex_metric(true_df, pred_df)"
   ]
  }
 ],
 "metadata": {
  "kaggle": {
   "accelerator": "none",
   "dataSources": [
    {
     "databundleVersionId": 3723648,
     "sourceId": 35332,
     "sourceType": "competition"
    },
    {
     "datasetId": 2231132,
     "sourceId": 3739819,
     "sourceType": "datasetVersion"
    }
   ],
   "dockerImageVersionId": 30698,
   "isGpuEnabled": false,
   "isInternetEnabled": true,
   "language": "python",
   "sourceType": "notebook"
  },
  "kernelspec": {
   "display_name": "Python 3",
   "language": "python",
   "name": "python3"
  },
  "language_info": {
   "codemirror_mode": {
    "name": "ipython",
    "version": 3
   },
   "file_extension": ".py",
   "mimetype": "text/x-python",
   "name": "python",
   "nbconvert_exporter": "python",
   "pygments_lexer": "ipython3",
   "version": "3.10.13"
  },
  "papermill": {
   "default_parameters": {},
   "duration": 2226.92218,
   "end_time": "2024-05-13T17:33:34.209943",
   "environment_variables": {},
   "exception": null,
   "input_path": "__notebook__.ipynb",
   "output_path": "__notebook__.ipynb",
   "parameters": {},
   "start_time": "2024-05-13T16:56:27.287763",
   "version": "2.5.0"
  }
 },
 "nbformat": 4,
 "nbformat_minor": 5
}
